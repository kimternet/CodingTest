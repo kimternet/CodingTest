{
 "cells": [
  {
   "cell_type": "markdown",
   "metadata": {},
   "source": [
    "###문제 설명\n",
    "상우가 사용하는 가습기에는 \"auto\", \"target\", \"minimum\"의 세 가지 모드가 있습니다. 가습기의 가습량은 0~5단계로 구분되며 각 모드 별 동작 방식은 다음과 같습니다.\n",
    "\n",
    "\"auto\" 모드\n",
    "\n",
    "습도가 0 이상 10 미만인 경우 : 5단계\n",
    "습도가 10 이상 20 미만인 경우 : 4단계\n",
    "습도가 20 이상 30 미만인 경우 : 3단계\n",
    "습도가 30 이상 40 미만인 경우 : 2단계\n",
    "습도가 40 이상 50 미만인 경우 : 1단계\n",
    "습도가 50 이상인 경우 : 0단계\n",
    "\"target\" 모드\n",
    "\n",
    "습도가 설정값 미만일 경우 : 3단계\n",
    "습도가 설정값 이상일 경우 : 1단계\n",
    "\"minimum\"모드\n",
    "\n",
    "습도가 설정값 미만일 경우 : 1단계\n",
    "습도가 설정값 이상일 경우 : 0단계\n",
    "상우가 설정한 가습기의 모드를 나타낸 문자열 mode_type, 현재 공기 중 습도를 나타낸 정수 humidity, 설정값을 나타낸 정수 val_set이 주어질 때 현재 가습기가 몇 단계로 작동 중인지 return하도록 빈칸을 채워 solution 함수를 완성해 주세요."
   ]
  },
  {
   "cell_type": "code",
   "execution_count": null,
   "metadata": {},
   "outputs": [],
   "source": [
    "def func1(humidity, val_set):\n",
    "    if humidity < val_set:\n",
    "        return 3\n",
    "\n",
    "    return 1\n",
    "\n",
    "def func2(humidity):\n",
    "    if humidity >= 50:\n",
    "        return 0\n",
    "    elif humidity >= 40:\n",
    "        return 1\n",
    "    elif humidity >= 30:\n",
    "        return 2\n",
    "    elif humidity >= 20:\n",
    "        return 3\n",
    "    elif humidity >= 10:\n",
    "        return 4\n",
    "    \n",
    "    else:\n",
    "\n",
    "        return 5\n",
    "\n",
    "\n",
    "def func3(humidity, val_set):\n",
    "    if humidity < val_set:\n",
    "        return 1\n",
    "    return 0\n",
    "\n",
    "\n",
    "def solution(mode_type, humidity, val_set):\n",
    "    answer = 0\n",
    "    if mode_type == \"auto\":\n",
    "        answer = func2(humidity)\n",
    "\n",
    "    elif mode_type == \"target\":\n",
    "        answer = func1(humidity, val_set)\n",
    "\n",
    "    elif mode_type == \"minimum\":\n",
    "        answer = func3(humidity, val_set)\n",
    "\n",
    "    return answer"
   ]
  }
 ],
 "metadata": {
  "language_info": {
   "name": "python"
  }
 },
 "nbformat": 4,
 "nbformat_minor": 2
}
