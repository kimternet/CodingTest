{
 "cells": [
  {
   "cell_type": "markdown",
   "metadata": {},
   "source": [
    "### **문제 설명**\n",
    "\n",
    "A반 학생들은 시험이 끝난 뒤 성적이 나오기 전 자기 시험지를 가채점해 보았습니다. 이후에 선생님이 실제 성적을 불러 줄 때 가채점한 점수와 실제 성적이 다른 학생들이 있어 선생님께 문의를 하려고 합니다.\n",
    "\n",
    "성적을 문의하려는 학생들의 번호가 담긴 정수 리스트 `numbers`와 가채점한 점수가 성적을 문의하려는 학생 순서대로 담긴 정수 리스트 `our_score`, 실제 성적이 번호 순서대로 담긴 정수 리스트 `score_list`가 주어집니다. 주어진 solution 함수는 가채점한 점수가 실제 성적과 동일하다면 \"Same\"을, 다르다면 \"Different\"를 순서대로 리스트에 담아 return하는 함수입니다. solution 함수가 올바르게 작동하도록 한 줄을 수정해 주세요."
   ]
  },
  {
   "cell_type": "markdown",
   "metadata": {},
   "source": [
    "### 제한사항\n",
    "\n",
    "1 ≤ numbers의 길이 = our_score의 길이 ≤ 10\n",
    "1 ≤ numbers의 원소 ≤ 31\n",
    "0 ≤ our_score의 원소 ≤ 100\n",
    "our_score[i]는 numbers[i]번 학생이 가채점한 점수입니다.\n",
    "numbers는 중복된 원소를 가지지 않습니다.\n",
    "2 ≤ score_list의 길이 ≤ 31\n",
    "0 ≤ score_list의 원소 ≤ 100\n",
    "score_list에는 실제 성적이 [1번 학생 성적, 2번 학생 성적, 3번 학생 성적 …] 순서로 들어있습니다."
   ]
  },
  {
   "cell_type": "code",
   "execution_count": null,
   "metadata": {},
   "outputs": [],
   "source": [
    "def solution(numbers, our_score, score_list):\n",
    "    answer = []\n",
    "    for i in range(len(numbers)):\n",
    "        if numbers[our_score[i]] == score_list[i]:\n",
    "            answer.append(\"Same\")\n",
    "        else:\n",
    "            answer.append(\"Different\")\n",
    "    \n",
    "    return answer"
   ]
  },
  {
   "cell_type": "markdown",
   "metadata": {},
   "source": [
    "### 문제 풀이\n",
    "\n",
    "1. ‘numbers’ : 성적을 문의하려는 학생들의 번호가 담긴 리스트.\n",
    "2. ‘our_score’ : 해당 학생들이 가채점한 점수가 담긴 리스트.\n",
    "3. ‘score_list’ : 전체 학생들의 실제 성적이 번호 순서대로 담긴 리스트.\n",
    "\n",
    "각 학생의 가채점 점수와 실제 성적을 비교하여 결과를 리스트로 반환한다."
   ]
  },
  {
   "cell_type": "code",
   "execution_count": null,
   "metadata": {},
   "outputs": [],
   "source": [
    "# def solution이라는 함수를 정의, 이 함수는 3개의 인자를 받는다.\n",
    "def solution(numbers, our_score, score_list):\n",
    "\tanswer = [] # 빈리스트 생성 / 결과를 저장하기 위함.\n",
    "# 반복문 시작, 'i'는 반복문의 인덱스를 나타내며,\n",
    "# '0'부터 'numbers'리스트의 길이 -1까지의 값을 가진다.\n",
    "# \t\t\n",
    "\tfor i in range(len(numbers)):\n",
    "\t\t# 현재 인덱스 'i'에 해당하는 학생의 가채점 점수와 실제 성적 비교\n",
    "\t\t# 파이썬의 리스트 인덱스는 0부터 시작하므로, 'numbers[i]-1'로\n",
    "\t\t# 실제 성적 리스트 'score_list'에서 올바른 인덱스를 찾는다.\n",
    "\t\tif our_score[i] == score_list[numbers[i] - 1]:\n",
    "\t\t\tanswer.append('Same')\n",
    "\t\telse:\n",
    "\t\t\tanswer.append('Different')\n",
    "\t\t\t\n",
    "    return answer"
   ]
  }
 ],
 "metadata": {
  "language_info": {
   "name": "python"
  }
 },
 "nbformat": 4,
 "nbformat_minor": 2
}
