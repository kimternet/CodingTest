{
  "nbformat": 4,
  "nbformat_minor": 0,
  "metadata": {
    "colab": {
      "provenance": []
    },
    "kernelspec": {
      "name": "python3",
      "display_name": "Python 3"
    },
    "language_info": {
      "name": "python"
    }
  },
  "cells": [
    {
      "cell_type": "markdown",
      "source": [
        "# 📌 오늘의 주제: 정렬 알고리즘 (버블 정렬)\n",
        "\n",
        "정렬 알고리즘은 데이터를 특정 순서대로 배치하는 방법\n",
        "\n"
      ],
      "metadata": {
        "id": "ppQAdShQNi1K"
      }
    },
    {
      "cell_type": "markdown",
      "source": [
        "# 📌 개념과 알고리즘 설명\n",
        "\n",
        "🔍 버블 정렬이란?\n",
        "\n",
        "* 서로 이웃한 두 요소를 비교해, 잘못된 순서라면 교환을 반복하는 방식.\n",
        "\n",
        "* 가장 큰 값이 반복적으로 맨 끝으로 이동하며, 마치 물속의 **거품(bubble)**이 올라오는 듯한 동작을 보임."
      ],
      "metadata": {
        "id": "8keaEpoUOyK0"
      }
    },
    {
      "cell_type": "markdown",
      "source": [
        "# 📌 오늘의 문제\n",
        "\n",
        "정수로 이루어진 리스트가 주어진다.\n",
        "\n",
        "이 리스트를 버블 정렬 알고리즘을 사용해 오름차순으로 정렬하는 함수를 작성하라.\n",
        "\n",
        "** 조건 **\n",
        "\n",
        "1. sorted() 함수 또는 sort() 메서드 사용 금지\n",
        "\n",
        "2 .반드시 버블 정렬 알고리즘을 직접 구현할 것\n",
        "\n",
        "3 .입력 리스트의 길이는 최소 1 <= n <= 1000\n",
        "\n",
        "**입력 예시:**\n",
        "\n",
        "```\n",
        "numbers = [64, 34, 25, 12, 22, 11, 90]\n",
        "```\n",
        "\n",
        "**출력 예시:**\n",
        "```\n",
        "[11, 12, 22, 25, 34, 64, 90]\n",
        "```"
      ],
      "metadata": {
        "id": "qHd9KWUAOVXF"
      }
    },
    {
      "cell_type": "code",
      "source": [
        "import time\n",
        "\n",
        "def bubble_sort(arr):\n",
        "  n = len(arr)\n",
        "  for i in range(n-1):\n",
        "    for j in range(n - i - 1):\n",
        "      if arr[j] > arr[j + 1]:\n",
        "        arr[j], arr[j + 1] = arr[j + 1], arr[j]\n",
        "  return arr\n",
        "\n",
        "\n",
        "\n",
        "numbers = [64, 34, 25, 12, 22, 11, 90]\n",
        "print(\"정렬 전:\", numbers)\n",
        "\n",
        "start_time = time.time()  # 시작 시간 기록\n",
        "sorted_numbers = bubble_sort(numbers.copy())  # 정렬 수행\n",
        "end_time = time.time()  # 종료 시간 기록\n",
        "\n",
        "print(\"정렬 후:\", sorted_numbers)\n",
        "print(\"걸린 시간: {:.6f}초\".format(end_time - start_time))"
      ],
      "metadata": {
        "id": "A9onhV8rgp23",
        "colab": {
          "base_uri": "https://localhost:8080/"
        },
        "outputId": "30fc4b53-ca1f-4256-f3b6-f6486d603fb6"
      },
      "execution_count": 1,
      "outputs": [
        {
          "output_type": "stream",
          "name": "stdout",
          "text": [
            "정렬 전: [64, 34, 25, 12, 22, 11, 90]\n",
            "정렬 후: [11, 12, 22, 25, 34, 64, 90]\n",
            "걸린 시간: 0.000162초\n"
          ]
        }
      ]
    },
    {
      "cell_type": "markdown",
      "source": [
        "# 📌 성능 개선\n",
        "버블 정렬의 한계는 이미 정렬된 경우에도 모든 비교를 수행한다는 것이다.\n",
        "\n",
        "이를 개선하려면 \"스왑이 한 번도 일어나지 않았다면 중단\" 하는 방식으로 개선 가능하다."
      ],
      "metadata": {
        "id": "3-beQqLkeXMo"
      }
    },
    {
      "cell_type": "code",
      "source": [
        "import time\n",
        "\n",
        "def optimized_bubble_sort(arr):\n",
        "  n = len(arr)\n",
        "  for i in range(n-1):\n",
        "    swapped = False\n",
        "    for j in range(n - i - 1):\n",
        "      if arr[j] > arr[j + 1]:\n",
        "        arr[j], arr[j + 1] = arr[j + 1], arr[j]\n",
        "        swapped = True\n",
        "    if not swapped:\n",
        "      break\n",
        "  return arr\n",
        "\n",
        "numbers = [64, 34, 25, 12, 22, 11, 90]\n",
        "print(\"정렬 전:\", numbers)\n",
        "\n",
        "start_time = time.time()  # 시작 시간 기록\n",
        "sorted_numbers = optimized_bubble_sort(numbers.copy())  # 정렬 수행\n",
        "end_time = time.time()  # 종료 시간 기록\n",
        "\n",
        "print(\"정렬 후:\", sorted_numbers)\n",
        "print(\"걸린 시간: {:.6f}초\".format(end_time - start_time))"
      ],
      "metadata": {
        "colab": {
          "base_uri": "https://localhost:8080/"
        },
        "id": "Dx_Re8IieV4k",
        "outputId": "2acd3f2e-face-4b92-cf6d-70843728c37b"
      },
      "execution_count": 2,
      "outputs": [
        {
          "output_type": "stream",
          "name": "stdout",
          "text": [
            "정렬 전: [64, 34, 25, 12, 22, 11, 90]\n",
            "정렬 후: [11, 12, 22, 25, 34, 64, 90]\n",
            "걸린 시간: 0.000171초\n"
          ]
        }
      ]
    },
    {
      "cell_type": "markdown",
      "source": [
        "# 📌 시간복잡도 분석\n",
        "\n",
        "**최악의 경우:**\n",
        "\n",
        "* 배열이 역순일 경우, 모든 비교와 스왑이 필요.\n",
        "시간복잡도는 O(N²) (총 n번의 라운드 × 평균 n/2번 비교).\n",
        "\n",
        "**최선의 경우:**\n",
        "\n",
        "* 배열이 이미 정렬되어 있을 경우.\n",
        "하지만 단순 버블 정렬은 이 경우에도 O(N²)가 된다.\n",
        "(개선된 버블 정렬에선 O(N)으로 줄일 수 있음.)"
      ],
      "metadata": {
        "id": "PrcjLowyQLq-"
      }
    }
  ]
}