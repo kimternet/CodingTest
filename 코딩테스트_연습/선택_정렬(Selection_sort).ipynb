{
  "nbformat": 4,
  "nbformat_minor": 0,
  "metadata": {
    "colab": {
      "provenance": []
    },
    "kernelspec": {
      "name": "python3",
      "display_name": "Python 3"
    },
    "language_info": {
      "name": "python"
    }
  },
  "cells": [
    {
      "cell_type": "markdown",
      "source": [
        "# 📌 오늘의 주제: 선택 정렬(Selection Sort)"
      ],
      "metadata": {
        "id": "ppQAdShQNi1K"
      }
    },
    {
      "cell_type": "markdown",
      "source": [
        "# 📌 개념과 알고리즘 설명\n",
        "\n",
        "🔍 선택 정렬이란?\n",
        "\n",
        "* 배열에서 가장 작은 값을 찾아서 맨 앞에 있는 값과 교환\n",
        "\n",
        "* 그다음 작은 값을 찾아 두 번째 위치와 교환\n",
        "\n",
        "* 이런 식으로 전체 배열을 순차적으로 정렬"
      ],
      "metadata": {
        "id": "8keaEpoUOyK0"
      }
    },
    {
      "cell_type": "markdown",
      "source": [
        "# 📌 오늘의 문제\n",
        "\n",
        "정수로 이루어진 리스트가 주어진다.\n",
        "\n",
        "이 리스트를 선택 정렬 알고리즘으로 오름차순 정렬하라.\n",
        "\n",
        "** 조건 **\n",
        "\n",
        "1. sorted()와 sort() 사용 금지\n",
        "\n",
        "2. 선택 정렬 알고리즘을 직접 구현할 것\n",
        "\n",
        "**입력 예시:**\n",
        "\n",
        "```\n",
        "numbers = [29, 10, 14, 37, 13]\n",
        "```\n",
        "\n",
        "**출력 예시:**\n",
        "```\n",
        "[10, 13, 14, 29, 37]\n",
        "```\n",
        "\n",
        "**테스트 케이스**\n",
        "```\n",
        "assert selection_sort([5, 4, 3, 2, 1]) == [1, 2, 3, 4, 5]\n",
        "assert selection_sort([1]) == [1]\n",
        "assert selection_sort([10, -1, 0, 99]) == [-1, 0, 10, 99]\n",
        "```"
      ],
      "metadata": {
        "id": "qHd9KWUAOVXF"
      }
    },
    {
      "cell_type": "code",
      "source": [
        "def selection_sort(arr):\n",
        "    n = len(arr)  # 배열의 길이를 구함\n",
        "    for i in range(n):  # 배열의 모든 인덱스를 차례대로 접근\n",
        "        min_index = i  # 현재 인덱스를 최소값 인덱스로 초기화\n",
        "        for j in range(i + 1, n):  # i 이후의 인덱스들 중에서\n",
        "            if arr[j] < arr[min_index]:  # 더 작은 값이 있으면\n",
        "                min_index = j  # 그 인덱스를 최소값 인덱스로 갱신\n",
        "        arr[i], arr[min_index] = arr[min_index], arr[i]  # i번째 값과 최소값 위치를 스왑\n",
        "    return arr\n",
        "\n",
        "number = [29,10, 14, 37, 13]\n",
        "print(selection_sort(number))"
      ],
      "metadata": {
        "id": "A9onhV8rgp23",
        "colab": {
          "base_uri": "https://localhost:8080/"
        },
        "outputId": "978b2c32-8ce3-41b3-896c-2c36f2db435f"
      },
      "execution_count": 2,
      "outputs": [
        {
          "output_type": "stream",
          "name": "stdout",
          "text": [
            "[10, 13, 14, 29, 37]\n"
          ]
        }
      ]
    },
    {
      "cell_type": "markdown",
      "source": [
        "# ⏱ 시간복잡도 분석\n",
        "\n",
        "* 비교 횟수는 항상 동일 (입력 상태와 무관)\n",
        "\n",
        "* 내부 루프가 점점 줄어들긴 해도 전체 비교는 항상 O(N²)\n",
        "\n",
        "* 교환 횟수는 최대 N-1번으로, 버블 정렬보다 교환 횟수가 적음"
      ],
      "metadata": {
        "id": "PrcjLowyQLq-"
      }
    }
  ]
}