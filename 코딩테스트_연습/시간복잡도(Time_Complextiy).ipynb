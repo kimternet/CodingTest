{
  "nbformat": 4,
  "nbformat_minor": 0,
  "metadata": {
    "colab": {
      "provenance": []
    },
    "kernelspec": {
      "name": "python3",
      "display_name": "Python 3"
    },
    "language_info": {
      "name": "python"
    }
  },
  "cells": [
    {
      "cell_type": "markdown",
      "source": [
        "# 📌 오늘의 주제: 시간복잡도 (Time Complexity)\n",
        "\n",
        "시간복잡도란 **알고리즘이 실행되는 데 걸리는 시간**을 입력 크기(n)에 따라 표현한 것이다.\n",
        "\n",
        "주로 **Big-O 표기법을 사용하여 표현**하며, 알고리즘 성능을 판단하는 기준이 된다.\n",
        "\n",
        "대표적인 시간복잡도 종류는 다음과 같다.\n",
        "\n",
        "**O(1) : 상수 시간**\n",
        "\n",
        "→ 입력 크기와 상관없이 일정한 시간이 걸림\n",
        "\n",
        "**O(logN) : 로그 시간**\n",
        "\n",
        "→ 입력 크기가 증가할수록 연산 속도가 빠르게 줄어듦 (이진 탐색 등)\n",
        "\n",
        "**O(N) : 선형 시간**\n",
        "\n",
        "→ 입력 크기에 비례하여 시간이 증가 (for문)\n",
        "\n",
        "**O(NlogN) : 로그 선형 시간**\n",
        "\n",
        "→ 퀵 정렬, 병합 정렬 등의 정렬 알고리즘에 사용됨\n",
        "\n",
        "**O(N²) : 이차 시간**\n",
        "\n",
        "→ 중첩된 반복문 (이중 for문)\n",
        "\n",
        "**O(2ⁿ) : 지수 시간**\n",
        "\n",
        "→ 재귀를 활용한 피보나치 수열의 계산 같은 경우\n",
        "\n"
      ],
      "metadata": {
        "id": "ppQAdShQNi1K"
      }
    },
    {
      "cell_type": "markdown",
      "source": [
        "# 📌 개념과 알고리즘 설명\n",
        "\n",
        "이 문제를 해결하기 위한 간단한 방법은 다음과 같다:\n",
        "\n",
        "1. 배열을 처음부터 끝까지 반복하며 각 요소를 확인한다.\n",
        "\n",
        "2. 각 요소를 현재까지 찾은 최대값과 비교하여 더 큰 값이 있다면 최대값을 갱신한다.\n",
        "\n",
        "이 알고리즘의 시간복잡도는 O(N)이다. 배열의 모든 요소를 한 번씩만 확인하면 되기 때문이다."
      ],
      "metadata": {
        "id": "8keaEpoUOyK0"
      }
    },
    {
      "cell_type": "markdown",
      "source": [
        "# 📌 오늘의 문제\n",
        "\n",
        "가장 기본적이고 중요한 알고리즘 유형인 선형 탐색(Linear Search)을 사용하는 문제.\n",
        "\n",
        "🔍 선형 탐색(Linear Search)이란?\n",
        "\n",
        "* 배열의 처음부터 끝까지 순차적으로 모든 요소를 확인하는 방법.\n",
        "\n",
        "* 각 요소를 하나씩 비교해 원하는 조건을 만족하는 값을 찾는다.\n",
        "\n",
        "* 데이터가 정렬되어 있지 않은 경우에도 사용할 수 있으며, 가장 직관적인 방식이다.\n",
        "\n",
        "\n",
        "\n",
        "**문제:**\n",
        "\n",
        "주어진 숫자 배열에서 가장 큰 숫자를 찾아 반환하는 함수를 작성해 보자.\n",
        "\n",
        "**예시 입력:**\n",
        "\n",
        "```\n",
        "numbers = [3, 5, 1, 2, 4]\n",
        "```\n",
        "\n",
        "**예시 출력:**\n",
        "```\n",
        "5\n",
        "```"
      ],
      "metadata": {
        "id": "qHd9KWUAOVXF"
      }
    },
    {
      "cell_type": "code",
      "source": [
        "def find_max(numbers):\n",
        "  max_value = numbers[0] # 첫 번째 값을 최대값으로 초기화해서, 배열의 첫 번째 원소를 비교 대상 기준으로 삼는다.\n",
        "  for number in numbers:\n",
        "    if number > max_value:\n",
        "      max_value = number\n",
        "  return max_value\n",
        "\n",
        "numbers = [3, 5, 1, 2, 4]\n",
        "print(find_max(numbers))"
      ],
      "metadata": {
        "id": "A9onhV8rgp23",
        "colab": {
          "base_uri": "https://localhost:8080/"
        },
        "outputId": "8ddf3736-945b-47e0-b914-e2eea8ec5ab2"
      },
      "execution_count": 1,
      "outputs": [
        {
          "output_type": "stream",
          "name": "stdout",
          "text": [
            "5\n"
          ]
        }
      ]
    },
    {
      "cell_type": "markdown",
      "source": [
        "# 📌 시간복잡도 분석\n",
        "* 모든 요소를 단 한 번씩만 확인하므로, 입력 크기(N)만큼 시간이 걸린다.\n",
        "\n",
        "* 시간복잡도는 O(N)이며, 가장 효율적인 방법 중 하나다(정렬되지 않은 배열의 경우)."
      ],
      "metadata": {
        "id": "PrcjLowyQLq-"
      }
    }
  ]
}