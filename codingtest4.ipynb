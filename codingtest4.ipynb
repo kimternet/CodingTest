{
 "cells": [
  {
   "cell_type": "markdown",
   "metadata": {},
   "source": [
    "###문제설명\n",
    "진우는 돈을 모으기 위해 저축을 하려고 합니다. 목표로 하는 금액은 100만 원이며, 첫 달에 일정 금액을 넣은 뒤 70만 원까지는 매월 조금씩 저축하다가 70만 원 이후부터는 월 저축량을 늘려 빠르게 목표 금액을 달성하고자 합니다.\n",
    "첫 달에 저축하는 금액을 나타내는 정수 start, 두 번째 달 부터 70만 원 이상 모일 때까지 매월 저축하는 금액을 나타내는 정수 before, 100만 원 이상 모일 때 까지 매월 저축하는 금액을 나타내는 정수 after가 주어질 때, 100만 원 이상을 모을 때까지 걸리는 개월 수를 출력하도록 빈칸을 채워 코드를 완성해 주세요."
   ]
  },
  {
   "cell_type": "code",
   "execution_count": null,
   "metadata": {},
   "outputs": [],
   "source": [
    "\n",
    "# 0 ≤ start ≤ 99\n",
    "# 1 ≤ before ≤ after ≤ 25"
   ]
  },
  {
   "cell_type": "markdown",
   "metadata": {},
   "source": [
    "### 저축\n",
    "1  2  3  4  5  6  7  8  9  10  11\n",
    "28 34 40 46 52 58 64 70 78 86  94"
   ]
  },
  {
   "cell_type": "code",
   "execution_count": null,
   "metadata": {},
   "outputs": [],
   "source": [
    "start = int(input())\n",
    "before = int(input())\n",
    "after = int(input())\n",
    "\n",
    "money = start\n",
    "month = 1\n",
    "while money < 70:\n",
    "    money += before\n",
    "    month += 1\n",
    "\n",
    "while money < 100:\n",
    "    \n",
    "\tmoney += after\n",
    "    month += 1\n",
    "\n",
    "print(month)"
   ]
  }
 ],
 "metadata": {
  "language_info": {
   "name": "python"
  }
 },
 "nbformat": 4,
 "nbformat_minor": 2
}
