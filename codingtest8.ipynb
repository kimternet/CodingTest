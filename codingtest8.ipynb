{
 "cells": [
  {
   "cell_type": "markdown",
   "metadata": {},
   "source": [
    "### **문제 설명**\n",
    "\n",
    "선빈이는 게임을 즐기던 중 가지고 있는 물건이 너무 많아 창고 정리를 하기로 했습니다. 선빈이가 보유한 게임 속 창고는 여러 칸으로 나누어져 있고 각 칸에는 물건들이 담겨있습니다. 창고를 정리할 방법을 고민하던 선빈이는 같은 물건이 여러 칸에 나누어 들어있는 것을 발견하고 우선 같은 물건끼리 최대한 겹쳐쌓는 방식으로 창고를 정리하기로 했습니다. 선빈이의 창고에 들어있는 물건의 이름과 개수는 리스트 형태로 주어지며, 한 칸에 겹쳐질 수 있는 물건의 개수에는 제한이 없다고 가정합니다.\n",
    "\n",
    "예를 들어 창고의 각 칸에 담겨있는 물건의 이름이`storage = [\"pencil\", \"pencil\", \"pencil\", \"book\"]`, 각 물건의 개수가 `num = [2, 4, 3, 1]`이라면 연필과 책을 한 칸에 각각 겹쳐 쌓아 간단하게 `clean_storage = [\"pencil\", \"book\"]`, `clean_num = [9, 1]`로 만들 수 있습니다.\n",
    "\n",
    "!https://grepp-programmers.s3.ap-northeast-2.amazonaws.com/files/production/b082d283-1d50-42bb-8e3f-4d1d2f9aaff4/pencil%20book%20javacpp.jpg\n",
    "\n",
    "주어진 solution 함수는 정리되기 전 창고의 물건 이름이 담긴 문자열 리스트 `storage`와 각 물건의 개수가 담긴 정수 리스트 `num`이 주어질 때, 정리된 창고에서 개수가 가장 많은 물건의 이름을 return 하는 함수입니다. solution 함수가 올바르게 작동하도록 한 줄을 수정해 주세요."
   ]
  },
  {
   "cell_type": "code",
   "execution_count": null,
   "metadata": {
    "vscode": {
     "languageId": "plaintext"
    }
   },
   "outputs": [],
   "source": [
    "def solution(storage, num):\n",
    "    clean_storage = []\n",
    "    clean_num = []\n",
    "    for i in range(len(storage)):\n",
    "        if storage[i] in clean_storage:\n",
    "            pos = clean_storage.index(storage[i])\n",
    "            clean_num[pos] += num[i]\n",
    "        else:\n",
    "            clean_storage.append(num[i])\n",
    "            clean_num.append(num[i])\n",
    "            \n",
    "    # 아래 코드에는 틀린 부분이 없습니다.\n",
    "            \n",
    "    max_num = max(clean_num)\n",
    "    answer = clean_storage[clean_num.index(max_num)]\n",
    "    return answer"
   ]
  },
  {
   "cell_type": "markdown",
   "metadata": {},
   "source": [
    "### 문제 해결"
   ]
  },
  {
   "cell_type": "code",
   "execution_count": null,
   "metadata": {
    "vscode": {
     "languageId": "plaintext"
    }
   },
   "outputs": [],
   "source": [
    "def solution(storage, num):\n",
    "    clean_storage = []\n",
    "    clean_num = []"
   ]
  },
  {
   "cell_type": "markdown",
   "metadata": {},
   "source": [
    "리스트 초기화 : ‘clean_storage’와 ‘clean_num’ 리스트를 빈상태로 초기화"
   ]
  },
  {
   "cell_type": "code",
   "execution_count": null,
   "metadata": {
    "vscode": {
     "languageId": "plaintext"
    }
   },
   "outputs": [],
   "source": [
    "    for i in range(len(storage)):"
   ]
  },
  {
   "cell_type": "markdown",
   "metadata": {},
   "source": [
    "반복문: for i in range(len(storage)):는 storage 리스트의 각 요소에 대해 반복 작업을 수행합니다. i는 인덱스를 의미하며, storage[i]와 num[i]가 각각 물건의 이름과 그 개수를 의미합니다"
   ]
  },
  {
   "cell_type": "code",
   "execution_count": null,
   "metadata": {
    "vscode": {
     "languageId": "plaintext"
    }
   },
   "outputs": [],
   "source": [
    "if storage[i] in clean_storage:\n",
    "            pos = clean_storage.index(storage[i])\n",
    "            clean_num[pos] += num[i]\n",
    "        else:\n",
    "            clean_storage.append(storage[i]) # 문제에서 잘못된 부분\n",
    "            clean_num.append(num[i])\n",
    "            \n",
    "    # 아래 코드에는 틀린 부분이 없습니다.\n",
    "            \n",
    "    max_num = max(clean_num)\n",
    "    answer = clean_storage[clean_num.index(max_num)]\n",
    "    return answer"
   ]
  },
  {
   "cell_type": "markdown",
   "metadata": {},
   "source": [
    "- **조건문**:\n",
    "    - **이미 존재하는 물건**: `storage[i]`가 이미 `clean_storage` 리스트에 있다면, 해당 물건이 `clean_storage`의 어느 위치에 있는지 (`pos`)를 찾고, 해당 위치의 `clean_num` 값을 증가시킵니다.\n",
    "    - **새로운 물건**: `storage[i]`가 `clean_storage` 리스트에 없다면, 새로운 물건이므로 `clean_storage`에 물건 이름을 추가하고, `clean_num`에는 그 개수를 추가합니다."
   ]
  },
  {
   "cell_type": "markdown",
   "metadata": {},
   "source": [
    "### 최종 코드"
   ]
  },
  {
   "cell_type": "code",
   "execution_count": null,
   "metadata": {
    "vscode": {
     "languageId": "plaintext"
    }
   },
   "outputs": [],
   "source": [
    "def solution(storage, num):\n",
    "    clean_storage = []\n",
    "    clean_num = []\n",
    "    for i in range(len(storage)):\n",
    "        if storage[i] in clean_storage:\n",
    "            pos = clean_storage.index(storage[i])\n",
    "            clean_num[pos] += num[i]\n",
    "        else:\n",
    "            clean_storage.append(storage[i])\n",
    "            clean_num.append(num[i])\n",
    "            \n",
    "    # 아래 코드에는 틀린 부분이 없습니다.\n",
    "            \n",
    "    max_num = max(clean_num)\n",
    "    answer = clean_storage[clean_num.index(max_num)]\n",
    "    return answer"
   ]
  }
 ],
 "metadata": {
  "language_info": {
   "name": "python"
  }
 },
 "nbformat": 4,
 "nbformat_minor": 2
}
