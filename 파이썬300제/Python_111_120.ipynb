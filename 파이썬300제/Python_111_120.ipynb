{
  "nbformat": 4,
  "nbformat_minor": 0,
  "metadata": {
    "colab": {
      "provenance": []
    },
    "kernelspec": {
      "name": "python3",
      "display_name": "Python 3"
    },
    "language_info": {
      "name": "python"
    }
  },
  "cells": [
    {
      "cell_type": "markdown",
      "source": [
        "**111**\n",
        "\n",
        "사용자로부터 입력받은 문자열을 두 번 출력하라. 아래는 사용자가 \"안녕하세요\"를 입력한 경우의 출력 결과이다.\n"
      ],
      "metadata": {
        "id": "FRUO91FRA082"
      }
    },
    {
      "cell_type": "code",
      "source": [
        ">> 안녕하세요\n",
        "안녕하세요안녕하세요"
      ],
      "metadata": {
        "id": "C40UtqThA9sm"
      },
      "execution_count": null,
      "outputs": []
    },
    {
      "cell_type": "code",
      "source": [
        "# 1\n",
        "print(input()*2)\n",
        "\n",
        "# 2\n",
        "user = input(\"입력: \")\n",
        "print(user*2)"
      ],
      "metadata": {
        "colab": {
          "base_uri": "https://localhost:8080/"
        },
        "id": "IxSZgxpRBFWl",
        "outputId": "00abc274-8ce8-4ee9-aff3-698730fd2826"
      },
      "execution_count": 4,
      "outputs": [
        {
          "output_type": "stream",
          "name": "stdout",
          "text": [
            "안녕하세요\n",
            "안녕하세요안녕하세요\n",
            "입력: 안녕하세요\n",
            "안녕하세요안녕하세요\n"
          ]
        }
      ]
    },
    {
      "cell_type": "markdown",
      "source": [
        "**112**\n",
        "\n",
        "사용자로부터 하나의 숫자를 입력받고, 입력 받은 숫자에 10을 더해 출력하라."
      ],
      "metadata": {
        "id": "ycoWarxLBl3W"
      }
    },
    {
      "cell_type": "code",
      "source": [
        "user = int(input(\"숫자: \"))\n",
        "\n",
        "print(user + 10)"
      ],
      "metadata": {
        "colab": {
          "base_uri": "https://localhost:8080/"
        },
        "id": "Z7MuCkZCBnDP",
        "outputId": "ba18f185-a2bc-4e9b-e897-d4c160ebd62c"
      },
      "execution_count": 5,
      "outputs": [
        {
          "output_type": "stream",
          "name": "stdout",
          "text": [
            "숫자: 1\n",
            "11\n"
          ]
        }
      ]
    },
    {
      "cell_type": "markdown",
      "source": [
        "**113**\n",
        "\n",
        "사용자로부터 하나의 숫자를 입력 받고 짝수/홀수를 판별하라."
      ],
      "metadata": {
        "id": "kRZiI551ByA1"
      }
    },
    {
      "cell_type": "code",
      "source": [
        "user = input(\"숫자: \")\n",
        "\n",
        "if int(user) % 2 == 0:\n",
        "  print(\"짝수\")\n",
        "else:\n",
        "  print(\"홀수\")"
      ],
      "metadata": {
        "colab": {
          "base_uri": "https://localhost:8080/"
        },
        "id": "dM2jVxh7BzTN",
        "outputId": "93bfcc55-fafb-45c5-c1e8-c4a232dd7383"
      },
      "execution_count": 17,
      "outputs": [
        {
          "output_type": "stream",
          "name": "stdout",
          "text": [
            "숫자: 2\n",
            "짝수\n"
          ]
        }
      ]
    },
    {
      "cell_type": "markdown",
      "source": [
        "**114**\n",
        "\n",
        "사용자로부터 값을 입력받은 후 해당 값에 20을 더한 값을 출력하라.\n",
        "\n",
        "단 사용자가 입력한 값과 20을 더한 계산 값이 255를 초과하는 경우 255를 출력해야 한다."
      ],
      "metadata": {
        "id": "nSW4B3iXCnhW"
      }
    },
    {
      "cell_type": "code",
      "source": [
        "user = int(input(\"숫자 입력 : \"))\n",
        "\n",
        "if user + 20 > 255:\n",
        "  print(255)\n",
        "else:\n",
        "  print(user + 20)"
      ],
      "metadata": {
        "colab": {
          "base_uri": "https://localhost:8080/"
        },
        "id": "hMw5TyRqCtum",
        "outputId": "08dd4dcc-676e-463b-c521-fb874c3bdd00"
      },
      "execution_count": 31,
      "outputs": [
        {
          "output_type": "stream",
          "name": "stdout",
          "text": [
            "숫자 입력 : 3000\n",
            "255\n"
          ]
        }
      ]
    },
    {
      "cell_type": "markdown",
      "source": [
        "**115**\n",
        "\n",
        "사용자로부터 하나의 값을 입력받은 후 해당 값에 20을 뺀 값을 출력하라.\n",
        "단 출력 값의 범위는 0~255이다.\n",
        "예를 들어 결괏값이 0보다 작은 값이되는 경우 0을 출력하고 255보다 큰 값이 되는\n",
        "경우 255를 출력해야 한다."
      ],
      "metadata": {
        "id": "7KuvMG3qDPtN"
      }
    },
    {
      "cell_type": "code",
      "source": [
        "user = input(\"입력값: \")\n",
        "num = int(user) - 20\n",
        "if num > 255:\n",
        "    print(255)\n",
        "elif num < 0:\n",
        "    print(0)\n",
        "else:\n",
        "    print(num)"
      ],
      "metadata": {
        "colab": {
          "base_uri": "https://localhost:8080/"
        },
        "id": "abS-yosBDUid",
        "outputId": "74a8fa3d-727b-4daa-fc0d-1024d6fafd9a"
      },
      "execution_count": 48,
      "outputs": [
        {
          "output_type": "stream",
          "name": "stdout",
          "text": [
            "입력값: 240\n",
            "220\n"
          ]
        }
      ]
    },
    {
      "cell_type": "markdown",
      "source": [
        "**116**\n",
        "\n",
        "사용자로부터 입력 받은 시간이 정각인지 판별하라."
      ],
      "metadata": {
        "id": "plHTjX-8Eawt"
      }
    },
    {
      "cell_type": "code",
      "source": [
        "time = input(\"현재시간: (xx:xx) \")\n",
        "\n",
        "if time[-2:] == \"00\":\n",
        "  print(\"정각\")\n",
        "else:\n",
        "  print(\"정각 아님\")"
      ],
      "metadata": {
        "colab": {
          "base_uri": "https://localhost:8080/"
        },
        "id": "gclgoJXdEbud",
        "outputId": "3ddd9f78-7318-48c5-9597-a52979f316b1"
      },
      "execution_count": 53,
      "outputs": [
        {
          "output_type": "stream",
          "name": "stdout",
          "text": [
            "현재시간: (xx:xx) 20:01\n",
            "정각 아님\n"
          ]
        }
      ]
    },
    {
      "cell_type": "markdown",
      "source": [
        "**117**\n",
        "\n",
        "사용자로 입력받은 단어가 아래 fruit 리스트에 포함되어 있는지를 확인하라.\n",
        "\n",
        "포함되었다면 \"정답입니다\"를 아닐 경우 \"오답입니다\" 출력하라."
      ],
      "metadata": {
        "id": "5EmnsI3uFK82"
      }
    },
    {
      "cell_type": "code",
      "source": [
        "fruit = [\"사과\", \"포도\", \"홍시\"]\n",
        "\n",
        ">> 좋아하는 과일은? 사과\n",
        "정답입니다."
      ],
      "metadata": {
        "id": "1g9WiSQ4FNg1"
      },
      "execution_count": null,
      "outputs": []
    },
    {
      "cell_type": "code",
      "source": [
        "fruit = [\"사과\", \"포도\", \"홍시\"]\n",
        "\n",
        "user = input(\"좋아하는 과일은? \")\n",
        "\n",
        "if user == \"사과\" or user == \"포도\" or user == \"홍시\":\n",
        "  print(\"정답입니다.\")\n",
        "else:\n",
        "  print(\"오답입니다.\")"
      ],
      "metadata": {
        "colab": {
          "base_uri": "https://localhost:8080/"
        },
        "id": "gNT97uvmFR4e",
        "outputId": "68fe2b81-ef12-4d24-a6e7-3bc7bb66dc0a"
      },
      "execution_count": 57,
      "outputs": [
        {
          "output_type": "stream",
          "name": "stdout",
          "text": [
            "좋아하는 과일은? 홍차\n",
            "오답입니다.\n"
          ]
        }
      ]
    },
    {
      "cell_type": "markdown",
      "source": [
        "**118**\n",
        "\n",
        "투자 경고 종목 리스트가 있을 때 사용자로부터 종목명을 입력 받은 후 해당 종목이 투자 경고 종목이라면 '투자 경고 종목입니다'를 아니면 \"투자 경고 종목이 아닙니다.\"를 출력하는 프로그램을 작성하라."
      ],
      "metadata": {
        "id": "IYNnt5u-FlHt"
      }
    },
    {
      "cell_type": "code",
      "source": [
        "warn_investment_list = [\"Microsoft\", \"Google\", \"Naver\", \"Kakao\", \"SAMSUNG\", \"LG\"]\n",
        "\n",
        "user = input(\"종목: \")\n",
        "\n",
        "if user in warn_investment_list:\n",
        "  print(\"투자 경고 종목입니다.\")\n",
        "else:\n",
        "  print(\"투자 경고 종목이 아닙니다.\")"
      ],
      "metadata": {
        "colab": {
          "base_uri": "https://localhost:8080/"
        },
        "id": "0pt0BUm9Fn3m",
        "outputId": "b1f1742c-f652-4dbc-9d3b-214c276f8e6f"
      },
      "execution_count": 58,
      "outputs": [
        {
          "output_type": "stream",
          "name": "stdout",
          "text": [
            "종목: Microsoft\n",
            "투자 경고 종목입니다.\n"
          ]
        }
      ]
    },
    {
      "cell_type": "markdown",
      "source": [
        "**119**\n",
        "\n",
        "아래와 같이 fruit 딕셔너리가 정의되어 있다.\n",
        "사용자가 입력한 값이 딕셔너리 키 (key) 값에 포함되었다면 \"정답입니다\"를 아닐 경우 \"오답입니다\" 출력하라.\n",
        "\n"
      ],
      "metadata": {
        "id": "78f8nNBPGGtt"
      }
    },
    {
      "cell_type": "code",
      "source": [
        "fruit = {\"봄\" : \"딸기\", \"여름\" : \"토마토\", \"가을\" : \"사과\"}\n",
        "\n",
        "user = input(\" 좋아하는 계절은 ?\")\n",
        "\n",
        "if user in fruit:\n",
        "  print(\"정답입니다.\")\n",
        "else:\n",
        "  print(\"오답입니다.\")"
      ],
      "metadata": {
        "colab": {
          "base_uri": "https://localhost:8080/"
        },
        "id": "L0RoAPwFGJK9",
        "outputId": "7d8c0da6-fa61-4ee6-ab43-947fda730074"
      },
      "execution_count": 60,
      "outputs": [
        {
          "output_type": "stream",
          "name": "stdout",
          "text": [
            " 좋아하는 계절은 ?봄\n",
            "정답입니다.\n"
          ]
        }
      ]
    },
    {
      "cell_type": "markdown",
      "source": [
        "**120**\n",
        "\n",
        "아래와 같이 fruit 딕셔너리가 정의되어 있다.\n",
        "사용자가 입력한 값이 딕셔너리 값 (value)에 포함되었다면 \"정답입니다\"를 아닐 경우 \"오답입니다\" 출력하라."
      ],
      "metadata": {
        "id": "JltPpuqTGic2"
      }
    },
    {
      "cell_type": "code",
      "source": [
        "fruit = {\"봄\" : \"딸기\", \"여름\" : \"토마토\", \"가을\" : \"사과\"}\n",
        "\n",
        "user = input(\"좋아하는 과일은?\")\n",
        "\n",
        "if user in fruit.values():\n",
        "  print(\"정답입니다.\")\n",
        "else:\n",
        "  print(\"오답입니다.\")"
      ],
      "metadata": {
        "colab": {
          "base_uri": "https://localhost:8080/"
        },
        "id": "QWvUckepGmSW",
        "outputId": "024477d5-9edf-4c91-dbd8-cfa049a027f5"
      },
      "execution_count": 62,
      "outputs": [
        {
          "output_type": "stream",
          "name": "stdout",
          "text": [
            "좋아하는 과일은?배\n",
            "오답입니다.\n"
          ]
        }
      ]
    }
  ]
}