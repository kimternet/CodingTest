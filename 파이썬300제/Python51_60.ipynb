{
  "nbformat": 4,
  "nbformat_minor": 0,
  "metadata": {
    "colab": {
      "provenance": []
    },
    "kernelspec": {
      "name": "python3",
      "display_name": "Python 3"
    },
    "language_info": {
      "name": "python"
    }
  },
  "cells": [
    {
      "cell_type": "markdown",
      "source": [
        "**051 리스트 생성**\n",
        "\n",
        "2016년 11월 영화 예매 순위 기준 top3는 다음과 같습니다. 영화 제목을 movie_rank 이름의 리스트에 저장해보세요. (순위 정보는 저장하지 않습니다.)\n",
        "\n",
        "순위 영화\n",
        "\n",
        "1    닥터\n",
        "\n",
        "2    럭키\n",
        "\n",
        "3    영웅\n",
        "\n"
      ],
      "metadata": {
        "id": "1Arbs0YqPXD1"
      }
    },
    {
      "cell_type": "code",
      "source": [
        "movie_rank = ['닥터','럭키','영웅']\n",
        "\n",
        "print(movie_rank)"
      ],
      "metadata": {
        "colab": {
          "base_uri": "https://localhost:8080/"
        },
        "id": "wJbZh8qIPmDk",
        "outputId": "5c0b7937-cdc2-486f-b7f8-c2ceb13e275c"
      },
      "execution_count": 22,
      "outputs": [
        {
          "output_type": "stream",
          "name": "stdout",
          "text": [
            "['닥터', '럭키', '영웅']\n"
          ]
        }
      ]
    },
    {
      "cell_type": "markdown",
      "source": [
        "**052 리스트에 원소 추가**\n",
        "\n",
        "051의 movie_rank 리스트에 \"배트맨\"을 추가하라."
      ],
      "metadata": {
        "id": "_OjG6QDhP28L"
      }
    },
    {
      "cell_type": "code",
      "source": [
        "movie_rank.append('배트맨')\n",
        "print(movie_rank)"
      ],
      "metadata": {
        "colab": {
          "base_uri": "https://localhost:8080/"
        },
        "id": "Yq7FbzY-P5a8",
        "outputId": "13ca520a-8a6c-442b-c852-b2a9cfeb02de"
      },
      "execution_count": 35,
      "outputs": [
        {
          "output_type": "stream",
          "name": "stdout",
          "text": [
            "['닥터', '럭키', '영웅', '배트맨']\n"
          ]
        }
      ]
    },
    {
      "cell_type": "markdown",
      "source": [
        "**053**\n",
        "\n",
        "movie_rank 리스트에는 아래와 같이 네 개의 영화 제목이 바인딩되어 있다. \"슈퍼맨\"을 \"닥터 스트레인지\"와 \"럭키\" 사이에 추가하라.\n",
        "\n",
        "movie_rank = ['닥터', '럭키', '영웅', '배트맨']"
      ],
      "metadata": {
        "id": "RPpmzsAHQeaU"
      }
    },
    {
      "cell_type": "code",
      "source": [
        "movie_rank.insert(1,'슈퍼맨')\n",
        "print(movie_rank)"
      ],
      "metadata": {
        "colab": {
          "base_uri": "https://localhost:8080/"
        },
        "id": "_dgtKwuvQko0",
        "outputId": "124628ac-9b17-4ad6-9352-3e8783b6359b"
      },
      "execution_count": 37,
      "outputs": [
        {
          "output_type": "stream",
          "name": "stdout",
          "text": [
            "['닥터', '슈퍼맨', '럭키', '영웅', '배트맨']\n"
          ]
        }
      ]
    },
    {
      "cell_type": "markdown",
      "source": [
        "**054**\n",
        "\n",
        "movie_rank 리스트에서 '럭키'를 삭제하라."
      ],
      "metadata": {
        "id": "PIVYSNp2Q3Gl"
      }
    },
    {
      "cell_type": "code",
      "source": [
        "del movie_rank[3]\n",
        "print(movie_rank)"
      ],
      "metadata": {
        "colab": {
          "base_uri": "https://localhost:8080/"
        },
        "id": "tE0AAy7ZQ6Us",
        "outputId": "d5a79c65-f2de-4e9b-da25-f2fe1bb0a504"
      },
      "execution_count": 38,
      "outputs": [
        {
          "output_type": "stream",
          "name": "stdout",
          "text": [
            "['닥터', '슈퍼맨', '영웅', '배트맨']\n"
          ]
        }
      ]
    },
    {
      "cell_type": "markdown",
      "source": [
        "**055**\n",
        "\n",
        "movie_rank 리스트에서 '슈퍼맨' 과 '배트맨'을 를 삭제하라."
      ],
      "metadata": {
        "id": "8Okz6vlsRBaT"
      }
    },
    {
      "cell_type": "code",
      "source": [
        "movie_rank=['닥터', '슈퍼맨', '영웅', '배트맨']\n",
        "del movie_rank[1]\n",
        "del movie_rank[2] # **리스트에서 값을 삭제할 때는 먼저 삭제된 후 남은 원소들에 대해 순서를 새로 고려해야한다.**\n",
        "print(movie_rank)"
      ],
      "metadata": {
        "colab": {
          "base_uri": "https://localhost:8080/"
        },
        "id": "4JMvSSSJRCGk",
        "outputId": "2334fdbf-8930-4af6-b94d-ca94bd41376b"
      },
      "execution_count": 45,
      "outputs": [
        {
          "output_type": "stream",
          "name": "stdout",
          "text": [
            "['닥터', '영웅']\n"
          ]
        }
      ]
    },
    {
      "cell_type": "markdown",
      "source": [
        "**056**\n",
        "\n",
        "lang1과 lang2 리스트가 있을 때 lang1과 lang2의 원소를 모두 갖고 있는 langs 리스트를 만들어라.\n",
        "\n",
        ">> lang1 = [\"C\", \"C++\", \"JAVA\"]\n",
        "\n",
        ">> lang2 = [\"Python\", \"Go\", \"C#\"]\n",
        "\n",
        "실행 예:\n",
        ">> langs\n",
        "['C', 'C++', 'JAVA', 'Python', 'Go', 'C#']"
      ],
      "metadata": {
        "id": "I5HigjwcR_o9"
      }
    },
    {
      "cell_type": "code",
      "source": [
        "lang1 = [\"C\", \"C++\", \"JAVA\"]\n",
        "lang2 = [\"Python\", \"Go\", \"C#\"]\n",
        "langs = lang1 + lang2\n",
        "print(langs)"
      ],
      "metadata": {
        "colab": {
          "base_uri": "https://localhost:8080/"
        },
        "id": "qIcgU8I1SEdD",
        "outputId": "26cf4177-d23e-49cd-96fa-a24f6fe059ba"
      },
      "execution_count": 48,
      "outputs": [
        {
          "output_type": "stream",
          "name": "stdout",
          "text": [
            "['C', 'C++', 'JAVA', 'Python', 'Go', 'C#']\n"
          ]
        }
      ]
    },
    {
      "cell_type": "markdown",
      "source": [
        "**057**\n",
        "\n",
        "다음 리스트에서 최댓값과 최솟값을 출력하라.\n",
        "\n",
        "(힌트: min(), max() 함수 사용)\n",
        "\n",
        "nums = [1, 2, 3, 4, 5, 6, 7]\n",
        "\n",
        "실행 예:\n",
        "\n",
        "max:  7\n",
        "\n",
        "min:  1"
      ],
      "metadata": {
        "id": "d13_Oij6STS7"
      }
    },
    {
      "cell_type": "code",
      "source": [
        "nums = [1, 2, 3, 4, 5, 6, 7]\n",
        "\n",
        "print(\"min: \" , min(nums),\"\\nmax: \", max(nums))"
      ],
      "metadata": {
        "colab": {
          "base_uri": "https://localhost:8080/"
        },
        "id": "nrtWTR2ySXIj",
        "outputId": "8980955b-133d-45cb-c236-0a1e157fd4d3"
      },
      "execution_count": 59,
      "outputs": [
        {
          "output_type": "stream",
          "name": "stdout",
          "text": [
            "min:  1 \n",
            "max:  7\n"
          ]
        }
      ]
    },
    {
      "cell_type": "markdown",
      "source": [
        "**058**\n",
        "\n",
        "다음 리스트의 합을 출력하라.\n",
        "\n",
        "nums = [1, 2, 3, 4, 5]\n",
        "\n",
        "실행 예:\n",
        "15"
      ],
      "metadata": {
        "id": "gK9i_6NkTwa8"
      }
    },
    {
      "cell_type": "code",
      "source": [
        "nums = [1, 2, 3, 4, 5]\n",
        "\n",
        "print(sum(nums))"
      ],
      "metadata": {
        "colab": {
          "base_uri": "https://localhost:8080/"
        },
        "id": "Jzs-XyY-TyWr",
        "outputId": "5b59e0a2-6bcd-404e-87ee-4818945d88bb"
      },
      "execution_count": 60,
      "outputs": [
        {
          "output_type": "stream",
          "name": "stdout",
          "text": [
            "15\n"
          ]
        }
      ]
    },
    {
      "cell_type": "markdown",
      "source": [
        "**059**\n",
        "\n",
        "다음 리스트에 저장된 데이터의 개수를 화면에 구하하라.\n",
        "\n",
        "\n",
        "cook = [\"피자\", \"김밥\", \"만두\", \"양념치킨\", \"족발\", \"피자\", \"김치만두\", \"쫄면\", \"소시지\", \"라면\", \"팥빙수\", \"김치전\"]"
      ],
      "metadata": {
        "id": "ocZ6otevT4pL"
      }
    },
    {
      "cell_type": "code",
      "source": [
        "cook = [\"피자\", \"김밥\", \"만두\", \"양념치킨\", \"족발\", \"피자\", \"김치만두\", \"쫄면\", \"소시지\", \"라면\", \"팥빙수\", \"김치전\"]\n",
        "\n",
        "print(len(cook))"
      ],
      "metadata": {
        "colab": {
          "base_uri": "https://localhost:8080/"
        },
        "id": "a0t6cv2RT6Xr",
        "outputId": "6634783b-79a3-4568-eb17-3b9baf15dfb8"
      },
      "execution_count": 61,
      "outputs": [
        {
          "output_type": "stream",
          "name": "stdout",
          "text": [
            "12\n"
          ]
        }
      ]
    },
    {
      "cell_type": "markdown",
      "source": [
        "**060**\n",
        "\n",
        "다음 리스트의 평균을 출력하라.\n",
        "\n",
        "nums = [1, 2, 3, 4, 5]\n",
        "\n",
        "실행 예:\n",
        "3.0"
      ],
      "metadata": {
        "id": "WuDifHYsUCzb"
      }
    },
    {
      "cell_type": "code",
      "source": [
        "nums = [1, 2, 3, 4, 5]\n",
        "\n",
        "avg = sum(nums) / len(nums)\n",
        "\n",
        "print(avg)"
      ],
      "metadata": {
        "colab": {
          "base_uri": "https://localhost:8080/"
        },
        "id": "SLzMrPsXUD6L",
        "outputId": "23082378-3cad-422e-ee8e-9c3bfd363fd9"
      },
      "execution_count": 65,
      "outputs": [
        {
          "output_type": "stream",
          "name": "stdout",
          "text": [
            "3.0\n"
          ]
        }
      ]
    }
  ]
}