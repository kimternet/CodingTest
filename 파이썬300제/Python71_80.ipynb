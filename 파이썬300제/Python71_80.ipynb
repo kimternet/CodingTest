{
  "nbformat": 4,
  "nbformat_minor": 0,
  "metadata": {
    "colab": {
      "provenance": []
    },
    "kernelspec": {
      "name": "python3",
      "display_name": "Python 3"
    },
    "language_info": {
      "name": "python"
    }
  },
  "cells": [
    {
      "cell_type": "markdown",
      "source": [
        "**071**\n",
        "\n",
        "my_variable 이름의 비어있는 튜플을 만들라."
      ],
      "metadata": {
        "id": "X9eg8xI3hbh0"
      }
    },
    {
      "cell_type": "code",
      "execution_count": 1,
      "metadata": {
        "colab": {
          "base_uri": "https://localhost:8080/"
        },
        "id": "DZEgNOk6hZIM",
        "outputId": "e26cd7d1-a4cd-4afb-9bcf-3dae8f151b5d"
      },
      "outputs": [
        {
          "output_type": "stream",
          "name": "stdout",
          "text": [
            "<class 'tuple'>\n"
          ]
        }
      ],
      "source": [
        "my_variable = ()\n",
        "\n",
        "print(type(my_variable))"
      ]
    },
    {
      "cell_type": "markdown",
      "source": [
        "**072**\n",
        "\n",
        "2016년 11월 영화 예매 순위 기준 top3는 다음과 같다.\n",
        "1. 닥터\n",
        "2. 스플릿\n",
        "3. 럭키\n",
        "\n",
        "영화 제목을 movie_rank 이름의 튜플에 저장하라. (순위 정보는 저장하지 않는다.)\n",
        "\n"
      ],
      "metadata": {
        "id": "9fXKn1pShk59"
      }
    },
    {
      "cell_type": "code",
      "source": [
        "movie_rank =(\"닥터\",\"스플릿\",\"럭키\")\n",
        "\n",
        "print(movie_rank)"
      ],
      "metadata": {
        "colab": {
          "base_uri": "https://localhost:8080/"
        },
        "id": "5wIitAHyhsQL",
        "outputId": "9a5e2935-7b1e-4308-93db-b15d7ea79290"
      },
      "execution_count": 2,
      "outputs": [
        {
          "output_type": "stream",
          "name": "stdout",
          "text": [
            "('닥터', '스플릿', '럭키')\n"
          ]
        }
      ]
    },
    {
      "cell_type": "markdown",
      "source": [
        "**073**\n",
        "\n",
        "숫자 1 이 저장된 튜플을 생성하라."
      ],
      "metadata": {
        "id": "Jsnt-G1Kh3oV"
      }
    },
    {
      "cell_type": "code",
      "source": [
        "my_tuple = (1)\n",
        "type(my_tuple) # int 출력\n",
        "\n",
        "# 하나의 데이터가 저장된느 경우, 쉼표를 입력\n",
        "my_tuple1 = (1,)\n",
        "type(my_tuple1)"
      ],
      "metadata": {
        "colab": {
          "base_uri": "https://localhost:8080/"
        },
        "id": "HeIN1wnlh65i",
        "outputId": "5b94b3b4-cceb-4e3b-d6bc-477f85de02f4"
      },
      "execution_count": 5,
      "outputs": [
        {
          "output_type": "execute_result",
          "data": {
            "text/plain": [
              "tuple"
            ]
          },
          "metadata": {},
          "execution_count": 5
        }
      ]
    },
    {
      "cell_type": "markdown",
      "source": [
        "**074**\n",
        "\n",
        "다음 코드를 실행해보고 오류가 발생하는 원인을 설명하라."
      ],
      "metadata": {
        "id": "yMKoFobDiKdR"
      }
    },
    {
      "cell_type": "code",
      "source": [
        "t = (1, 2, 3)\n",
        "t[0] = 'a'\n",
        "Traceback (most recent call last):\n",
        "  File \"<pyshell#46>\", line 1, in <module>\n",
        "    t[0] = 'a'\n",
        "TypeError: 'tuple' object does not support item assignment"
      ],
      "metadata": {
        "id": "NdKXPZ-4iFdo"
      },
      "execution_count": null,
      "outputs": []
    },
    {
      "cell_type": "code",
      "source": [
        "# tuple은 원소(element)의 값을 변경할 수 없다."
      ],
      "metadata": {
        "id": "WyzUUgXHiSdZ"
      },
      "execution_count": null,
      "outputs": []
    },
    {
      "cell_type": "markdown",
      "source": [
        "**075**\n",
        "\n",
        "아래와 같이 t에는 1, 2, 3, 4 데이터가 바인딩되어 있다. t가 바인딩하는 데이터 타입은 무엇인가?\n",
        "\n",
        "t = 1, 2, 3, 4"
      ],
      "metadata": {
        "id": "gwqKEniniZW4"
      }
    },
    {
      "cell_type": "code",
      "source": [
        "# 원칙적으로 튜플은 괄호와 함께 데이터를 정의해야 하지만,\n",
        "# 사용자 편의를 위해 괄호 없이도 동작가능하다"
      ],
      "metadata": {
        "id": "qJkG4tt7ic0T"
      },
      "execution_count": null,
      "outputs": []
    },
    {
      "cell_type": "markdown",
      "source": [
        "**076**\n",
        "\n",
        "변수 t에는 아래와 같은 값이 저장되어 있다. 변수 t가 ('A', 'b', 'c') 튜플을 가리키도록 수정 하라.\n",
        "\n",
        "t = ('a', 'b', 'c')"
      ],
      "metadata": {
        "id": "StoWvP5Wipm4"
      }
    },
    {
      "cell_type": "code",
      "source": [
        "# 튜플의 값은 변경 x\n",
        "# 새로운 튜플을 만들면 기존 튜플은 자동으로 삭제된다.\n",
        "t=('A','b','c')\n",
        "\n",
        "print(t)"
      ],
      "metadata": {
        "colab": {
          "base_uri": "https://localhost:8080/"
        },
        "id": "HHrQdKl4iqkn",
        "outputId": "e2cc86c6-3810-4449-c8bf-9234d4bcfdf6"
      },
      "execution_count": 6,
      "outputs": [
        {
          "output_type": "stream",
          "name": "stdout",
          "text": [
            "('A', 'b', 'c')\n"
          ]
        }
      ]
    },
    {
      "cell_type": "markdown",
      "source": [
        "**077**\n",
        "\n",
        "다음 튜플을 리스트로 변환하라.\n",
        "\n",
        "interest = ('삼성전자', 'LG전자', 'SK Hynix')"
      ],
      "metadata": {
        "id": "50TPNZW9i7kU"
      }
    },
    {
      "cell_type": "code",
      "source": [
        "interest = ('삼전','LG','SK')\n",
        "data = list(interest)\n",
        "\n",
        "print(type(data))"
      ],
      "metadata": {
        "colab": {
          "base_uri": "https://localhost:8080/"
        },
        "id": "DBn_rRRCi85t",
        "outputId": "813f865f-2dc7-42cf-9ccf-8270d8697de4"
      },
      "execution_count": 8,
      "outputs": [
        {
          "output_type": "stream",
          "name": "stdout",
          "text": [
            "<class 'list'>\n"
          ]
        }
      ]
    },
    {
      "cell_type": "markdown",
      "source": [
        "**078**\n",
        "\n",
        "다음 리스트를 튜플로 변경하라.\n",
        "\n",
        "interest = ['삼성전자', 'LG전자', 'SK Hynix']"
      ],
      "metadata": {
        "id": "Bs-pjJhRjJ7G"
      }
    },
    {
      "cell_type": "code",
      "source": [
        "interest = ['삼성전자', 'LG전자', 'SK Hynix']\n",
        "\n",
        "data = tuple(interest)\n",
        "\n",
        "print(type(data))"
      ],
      "metadata": {
        "colab": {
          "base_uri": "https://localhost:8080/"
        },
        "id": "HLwvojtcjNN5",
        "outputId": "262d0431-ab32-40b7-c4e6-aefa30bf9745"
      },
      "execution_count": 9,
      "outputs": [
        {
          "output_type": "stream",
          "name": "stdout",
          "text": [
            "<class 'tuple'>\n"
          ]
        }
      ]
    },
    {
      "cell_type": "markdown",
      "source": [
        "**079 튜플 언팩킹**\n",
        "\n",
        "다음 코드의 실행 결과를 예상하라.\n",
        "\n",
        "temp = ('apple', 'banana', 'cake')\n",
        "\n",
        "a, b, c = temp\n",
        "\n",
        "print(a, b, c)"
      ],
      "metadata": {
        "id": "_Brnj_MCjTqU"
      }
    },
    {
      "cell_type": "code",
      "source": [
        "# 자동으로 a, b, c에 튜플의 원소값이 순서대로 담긴다.\n",
        "\n",
        "temp = ('apple', 'banana', 'cake')\n",
        "\n",
        "a, b, c = temp\n",
        "\n",
        "print(a, b, c)"
      ],
      "metadata": {
        "colab": {
          "base_uri": "https://localhost:8080/"
        },
        "id": "2zJlvdh_jW7Y",
        "outputId": "334f9933-2f62-42f1-a71c-fa32560a5dc8"
      },
      "execution_count": 10,
      "outputs": [
        {
          "output_type": "stream",
          "name": "stdout",
          "text": [
            "apple banana cake\n"
          ]
        }
      ]
    },
    {
      "cell_type": "markdown",
      "source": [
        "**080 range 함수**\n",
        "\n",
        "1 부터 99까지의 정수 중 짝수만 저장된 튜플을 생성하라."
      ],
      "metadata": {
        "id": "1QoL4-JdjkVd"
      }
    },
    {
      "cell_type": "code",
      "source": [
        "data = tuple(range(2, 100, 2))\n",
        "print(data)"
      ],
      "metadata": {
        "colab": {
          "base_uri": "https://localhost:8080/"
        },
        "id": "LCUyH8sWjlTG",
        "outputId": "0768d526-82a9-4ddc-ab0c-1a2efd2b9e30"
      },
      "execution_count": 11,
      "outputs": [
        {
          "output_type": "stream",
          "name": "stdout",
          "text": [
            "(2, 4, 6, 8, 10, 12, 14, 16, 18, 20, 22, 24, 26, 28, 30, 32, 34, 36, 38, 40, 42, 44, 46, 48, 50, 52, 54, 56, 58, 60, 62, 64, 66, 68, 70, 72, 74, 76, 78, 80, 82, 84, 86, 88, 90, 92, 94, 96, 98)\n"
          ]
        }
      ]
    }
  ]
}