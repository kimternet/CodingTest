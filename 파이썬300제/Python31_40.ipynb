{
  "nbformat": 4,
  "nbformat_minor": 0,
  "metadata": {
    "colab": {
      "provenance": []
    },
    "kernelspec": {
      "name": "python3",
      "display_name": "Python 3"
    },
    "language_info": {
      "name": "python"
    }
  },
  "cells": [
    {
      "cell_type": "markdown",
      "source": [
        "**031 문자열 합치기**"
      ],
      "metadata": {
        "id": "fFinCPR8OuEe"
      }
    },
    {
      "cell_type": "code",
      "execution_count": 1,
      "metadata": {
        "colab": {
          "base_uri": "https://localhost:8080/"
        },
        "id": "yd8UpoAoOpKN",
        "outputId": "ad0afe0a-dcd1-4acd-ba91-b6a8f24cdf81"
      },
      "outputs": [
        {
          "output_type": "stream",
          "name": "stdout",
          "text": [
            "34\n"
          ]
        }
      ],
      "source": [
        "a = \"3\"\n",
        "b = \"4\"\n",
        "\n",
        "print(a+b)"
      ]
    },
    {
      "cell_type": "markdown",
      "source": [
        "**032 문자열 곱하기**"
      ],
      "metadata": {
        "id": "zzzIJENxO51Q"
      }
    },
    {
      "cell_type": "code",
      "source": [
        "print(\"Hi\" * 3)"
      ],
      "metadata": {
        "colab": {
          "base_uri": "https://localhost:8080/"
        },
        "id": "02WeUOTTO72U",
        "outputId": "c73b1843-cafb-41e0-cf25-7c9e8b6dfeac"
      },
      "execution_count": 2,
      "outputs": [
        {
          "output_type": "stream",
          "name": "stdout",
          "text": [
            "HiHiHi\n"
          ]
        }
      ]
    },
    {
      "cell_type": "markdown",
      "source": [
        "**033 문자열 곱하기**\n",
        "\n",
        "화면에 '-'를 80개 출력하세요."
      ],
      "metadata": {
        "id": "oyeth8y6PBmb"
      }
    },
    {
      "cell_type": "code",
      "source": [
        "print(\"-\" * 80)"
      ],
      "metadata": {
        "colab": {
          "base_uri": "https://localhost:8080/"
        },
        "id": "kvHH8iILPFhd",
        "outputId": "602b5193-4c1d-4b15-cdf3-b45e9667c51b"
      },
      "execution_count": 3,
      "outputs": [
        {
          "output_type": "stream",
          "name": "stdout",
          "text": [
            "--------------------------------------------------------------------------------\n"
          ]
        }
      ]
    },
    {
      "cell_type": "markdown",
      "source": [
        "**034 문자열 곱하기**\n",
        "\n",
        "변수에 다음과 같은 문자열이 바인딩되어 있습니다.\n",
        "\n",
        ">>> t1 = 'python'\n",
        "\n",
        ">>> t2 = 'java'\n",
        "\n",
        "변수에 문자열 더하기와 문자열 곱하기를 사용해서 아래와 같이 출력해보세요.\n",
        "\n",
        "\n",
        "실행 예:\n",
        "python java python java python java python java"
      ],
      "metadata": {
        "id": "ZJv7jt_WPNtx"
      }
    },
    {
      "cell_type": "code",
      "source": [
        "t1 = 'python'\n",
        "t2 = 'java'\n",
        "print((t1 +' '+ t2 +' ') * 4)"
      ],
      "metadata": {
        "colab": {
          "base_uri": "https://localhost:8080/"
        },
        "id": "jY72ilucPTod",
        "outputId": "48fec31f-2370-4dcf-ef9c-f9984dabc98b"
      },
      "execution_count": 10,
      "outputs": [
        {
          "output_type": "stream",
          "name": "stdout",
          "text": [
            "python java python java python java python java \n"
          ]
        }
      ]
    },
    {
      "cell_type": "markdown",
      "source": [
        "**035 문자열 출력**\n",
        "\n",
        "변수에 다음과 같이 문자열과 정수가 바인딩되어 있을 때 % formatting을 사용해서\n",
        "\n",
        "다음과 같이 출력해보세요.\n",
        "\n",
        "name1 = \"김민수\"\n",
        "\n",
        "age1 = 10\n",
        "\n",
        "\n",
        "name2 = \"이철희\"\n",
        "\n",
        "age2 = 13\n",
        "\n",
        "이름: 김민수 나이: 10\n",
        "\n",
        "이름: 이철희 나이: 13\n"
      ],
      "metadata": {
        "id": "K4_zZZ8yP3hP"
      }
    },
    {
      "cell_type": "code",
      "source": [
        "name1 = \"김민수\"\n",
        "age1 = 10\n",
        "name2 = \"이철희\"\n",
        "age2 = 13\n",
        "\n",
        "print(\"이름: %s 나이: %d\" % (name1, age1))\n",
        "print(\"이름: %s 나이: %d\" % (name2, age2))"
      ],
      "metadata": {
        "colab": {
          "base_uri": "https://localhost:8080/"
        },
        "id": "GeF_o_lCP3E_",
        "outputId": "747d338c-9fa2-4d3f-b941-0285351fc60a"
      },
      "execution_count": 21,
      "outputs": [
        {
          "output_type": "stream",
          "name": "stdout",
          "text": [
            "이름: 김민수 나이: 10\n",
            "이름: 이철희 나이: 13\n"
          ]
        }
      ]
    },
    {
      "cell_type": "markdown",
      "source": [
        "**036 문자열 출력**\n",
        "\n",
        "문자열의 format( ) 메서드를 사용해서 035번 문제를 다시 풀어보세요."
      ],
      "metadata": {
        "id": "l3yEQhJkRA16"
      }
    },
    {
      "cell_type": "code",
      "source": [
        "print(\"이름: {} 나이: {}\".format(name1,age1))\n",
        "print(\"이름: {} 나이: {}\".format(name2,age2))\n"
      ],
      "metadata": {
        "colab": {
          "base_uri": "https://localhost:8080/"
        },
        "id": "iWhNBYS8RDGa",
        "outputId": "d685fc91-42d3-4a14-bcd6-56cd3fefcdb0"
      },
      "execution_count": 23,
      "outputs": [
        {
          "output_type": "stream",
          "name": "stdout",
          "text": [
            "이름: 김민수 나이: 10\n",
            "이름: 이철희 나이: 13\n"
          ]
        }
      ]
    },
    {
      "cell_type": "markdown",
      "source": [
        "**037 문자열 출력**\n",
        "\n",
        "파이썬 3.6부터 지원하는 f-string을 사용해서 035번 문제를 다시 풀어보세요."
      ],
      "metadata": {
        "id": "ar4Ip0TMRMGI"
      }
    },
    {
      "cell_type": "code",
      "source": [
        "print(f\"이름: {name1} 나이: {age1}\")\n",
        "print(f\"이름: {name2} 나이: {age2}\")"
      ],
      "metadata": {
        "colab": {
          "base_uri": "https://localhost:8080/"
        },
        "id": "8m6Pa7ldRNax",
        "outputId": "49a027ca-bac1-434d-e9ae-6ebf71c4a8c0"
      },
      "execution_count": 24,
      "outputs": [
        {
          "output_type": "stream",
          "name": "stdout",
          "text": [
            "이름: 김민수 나이: 10\n",
            "이름: 이철희 나이: 13\n"
          ]
        }
      ]
    },
    {
      "cell_type": "markdown",
      "source": [
        "**038 컴마 제거하기**\n",
        "\n",
        "삼성전자의 상장주식수가 다음과 같습니다. 컴마를 제거한 후 이를 정수 타입으로 변환해보세요.\n",
        "\n",
        "상장주식수 = \"5,969,782,550\""
      ],
      "metadata": {
        "id": "p1eimrgFRW1W"
      }
    },
    {
      "cell_type": "code",
      "source": [
        "stock = \"5,969,782,550\"\n",
        "\n",
        "stock_int = int(stock.replace(\",\",\"\"))\n",
        "\n",
        "print(f\"Type{type(stock_int)}, Value: {stock_int}\")"
      ],
      "metadata": {
        "colab": {
          "base_uri": "https://localhost:8080/"
        },
        "id": "OztqGiItRcF3",
        "outputId": "8a8e7327-f027-4b30-8cc6-29e6834fc66b"
      },
      "execution_count": 36,
      "outputs": [
        {
          "output_type": "stream",
          "name": "stdout",
          "text": [
            "Type<class 'int'>, Value: 5969782550\n"
          ]
        }
      ]
    },
    {
      "cell_type": "markdown",
      "source": [
        "**039 문자열 슬라이싱**\n",
        "\n",
        "다음과 같은 문자열에서 '2020/03'만 출력하세요.\n",
        "\n",
        "분기 = \"2020/03(E) (IFRS연결)\""
      ],
      "metadata": {
        "id": "Hh6LCwYHTFhM"
      }
    },
    {
      "cell_type": "code",
      "source": [
        "a = \"2020/03(E) (IFRS연결)\"\n",
        "\n",
        "print(a[:7])"
      ],
      "metadata": {
        "colab": {
          "base_uri": "https://localhost:8080/"
        },
        "id": "-c9uEP7CTKQF",
        "outputId": "890a4b1a-8d26-45e9-b151-ae337c62f695"
      },
      "execution_count": 41,
      "outputs": [
        {
          "output_type": "stream",
          "name": "stdout",
          "text": [
            "2020/03\n"
          ]
        }
      ]
    },
    {
      "cell_type": "markdown",
      "source": [
        "**040 strip 메서드**\n",
        "\n",
        "문자열의 좌우의 공백이 있을 때 이를 제거해보세요."
      ],
      "metadata": {
        "id": "keWDCzQlTa-G"
      }
    },
    {
      "cell_type": "code",
      "source": [
        "data = \"   삼성전자    \"\n",
        "\n",
        "data_strip = data.strip()\n",
        "\n",
        "print(data_strip)"
      ],
      "metadata": {
        "colab": {
          "base_uri": "https://localhost:8080/"
        },
        "id": "ei9iVULUTcnX",
        "outputId": "570760f3-02da-49f8-c223-946f05bc8319"
      },
      "execution_count": 43,
      "outputs": [
        {
          "output_type": "stream",
          "name": "stdout",
          "text": [
            "삼성전자\n"
          ]
        }
      ]
    }
  ]
}