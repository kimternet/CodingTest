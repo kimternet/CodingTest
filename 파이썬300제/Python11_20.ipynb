{
  "nbformat": 4,
  "nbformat_minor": 0,
  "metadata": {
    "colab": {
      "provenance": []
    },
    "kernelspec": {
      "name": "python3",
      "display_name": "Python 3"
    },
    "language_info": {
      "name": "python"
    }
  },
  "cells": [
    {
      "cell_type": "markdown",
      "source": [
        "**011 변수 사용하기**\n",
        "\n",
        "삼성전자라는 변수로 50,000원을 바인딩해보세요. 삼성전자 주식 10주를 보유하고 있을 때 총 평가금액을 출력하세요."
      ],
      "metadata": {
        "id": "tGaRqz9whZRv"
      }
    },
    {
      "cell_type": "code",
      "execution_count": 19,
      "metadata": {
        "colab": {
          "base_uri": "https://localhost:8080/"
        },
        "id": "ltcrVQ62g2dX",
        "outputId": "55cd86b3-1a54-470e-e79e-30383b77b296"
      },
      "outputs": [
        {
          "output_type": "stream",
          "name": "stdout",
          "text": [
            "총 평가금액 :  500000\n"
          ]
        }
      ],
      "source": [
        "samsung=int(50000)\n",
        "stock=int(10)\n",
        "\n",
        "print(\"총 평가금액 : \", samsung*stock)"
      ]
    },
    {
      "cell_type": "markdown",
      "source": [
        "**012 변수 사용하기**\n",
        "\n",
        "다음 표는 삼성전자의 일부 투자정보입니다. 변수를 사용해서 시가총액, 현재가, PER 등을 바인딩해보세요.\n",
        "\n",
        "항목\t값\n",
        "\n",
        "---\n",
        "\n",
        "\n",
        "시가총액\t298조\n",
        "현재가\t50,000원\n",
        "PER\t15.79\n"
      ],
      "metadata": {
        "id": "IWffC9r2hdv7"
      }
    },
    {
      "cell_type": "code",
      "source": [
        "시가총액 = 298000000000000\n",
        "현재가 = 500000\n",
        "PER = 15.79\n",
        "\n",
        "print(시가총액, type(시가총액))\n",
        "print(현재가,type(현재가))\n",
        "print(PER, type(PER))"
      ],
      "metadata": {
        "colab": {
          "base_uri": "https://localhost:8080/"
        },
        "id": "bpKK9WC4hhyQ",
        "outputId": "f2f79725-3cf8-40f6-df01-fc655831cc47"
      },
      "execution_count": 21,
      "outputs": [
        {
          "output_type": "stream",
          "name": "stdout",
          "text": [
            "298000000000000 <class 'int'>\n",
            "500000 <class 'int'>\n",
            "15.79 <class 'float'>\n"
          ]
        }
      ]
    },
    {
      "cell_type": "markdown",
      "source": [
        "**013 문자열 출력**\n",
        "\n",
        "변수 s와 t에는 각각 문자열이 바인딩 되어있습니다.\n",
        "\n",
        ">> s = \"hello\"\n",
        ">> t = \"python\""
      ],
      "metadata": {
        "id": "3mVuIxXAhngy"
      }
    },
    {
      "cell_type": "code",
      "source": [
        "s = \"hello\"\n",
        "t = \"python\"\n",
        "print(s+\"! \"+t)"
      ],
      "metadata": {
        "colab": {
          "base_uri": "https://localhost:8080/"
        },
        "id": "kHBqPEjvhmqw",
        "outputId": "ed9d4343-ce0c-41bd-ac02-909ce360a718"
      },
      "execution_count": 24,
      "outputs": [
        {
          "output_type": "stream",
          "name": "stdout",
          "text": [
            "hello! python\n"
          ]
        }
      ]
    },
    {
      "cell_type": "markdown",
      "source": [
        "**014 파이썬을 이용한 값 계산**\n",
        "\n",
        "아래 코드의 실행 결과를 예상해보세요.\n",
        "\n",
        ">> 2 + 2 * 3"
      ],
      "metadata": {
        "id": "fKto9LmUh2Q9"
      }
    },
    {
      "cell_type": "code",
      "source": [
        "a = 2\n",
        "b = 3\n",
        "\n",
        "print(a+a*b)"
      ],
      "metadata": {
        "colab": {
          "base_uri": "https://localhost:8080/"
        },
        "id": "nPbhmB0_hnG7",
        "outputId": "2ca552bf-7cb7-4467-e7cf-d90a681ebc04"
      },
      "execution_count": 25,
      "outputs": [
        {
          "output_type": "stream",
          "name": "stdout",
          "text": [
            "8\n"
          ]
        }
      ]
    },
    {
      "cell_type": "markdown",
      "source": [
        "**015 type 함수**\n",
        "\n",
        "type() 함수는 데이터 타입을 판별합니다. 변수 a에는 128 숫자가 바인딩돼 있어 type 함수가 int (정수)형임을 알려줍니다.\n",
        "\n",
        ">> a = 128\n",
        ">> print (type(a))\n",
        "<class 'int'>\n",
        "\n",
        "아래 변수에 바인딩된 값의 타입을 판별해보세요.\n",
        "\n",
        ">> a = \"132\""
      ],
      "metadata": {
        "id": "_JlZVvJAiD0-"
      }
    },
    {
      "cell_type": "code",
      "source": [
        "a = \"132\"\n",
        "\n",
        "print(type(a))"
      ],
      "metadata": {
        "colab": {
          "base_uri": "https://localhost:8080/"
        },
        "id": "y61-fO3Nh84K",
        "outputId": "cc1ea9a6-7433-41ec-92c9-764d982a7070"
      },
      "execution_count": 26,
      "outputs": [
        {
          "output_type": "stream",
          "name": "stdout",
          "text": [
            "<class 'str'>\n"
          ]
        }
      ]
    },
    {
      "cell_type": "markdown",
      "source": [
        "**016 문자열을 정수로 변환**\n",
        "\n",
        "문자열 '720'를 정수형으로 변환해보세요.\n",
        "\n",
        ">> num_str = \"720\""
      ],
      "metadata": {
        "id": "GwX-qRRiiPgY"
      }
    },
    {
      "cell_type": "code",
      "source": [
        "num_str=\"720\"\n",
        "num_int = int(num_str) #형변환\n",
        "print(num_int+1, type(num_int))"
      ],
      "metadata": {
        "colab": {
          "base_uri": "https://localhost:8080/"
        },
        "id": "2G_eHA7ziLi3",
        "outputId": "a816f997-49d6-49ed-e9cf-84d20bcd945b"
      },
      "execution_count": 34,
      "outputs": [
        {
          "output_type": "stream",
          "name": "stdout",
          "text": [
            "721 <class 'int'>\n"
          ]
        }
      ]
    },
    {
      "cell_type": "markdown",
      "source": [
        "**017 정수를 문자열 100으로 변환**\n",
        "\n",
        "정수 100을 문자열 '100'으로 변환해보세요."
      ],
      "metadata": {
        "id": "zDiu8al5igaz"
      }
    },
    {
      "cell_type": "code",
      "source": [
        "a = int(100)\n",
        "b = str(a)\n",
        "print(b+\"1\", type(b))"
      ],
      "metadata": {
        "colab": {
          "base_uri": "https://localhost:8080/"
        },
        "id": "TbpVxLuYihfZ",
        "outputId": "7a5e0e9c-1e1d-4f76-d71b-caefaaae8c72"
      },
      "execution_count": 38,
      "outputs": [
        {
          "output_type": "stream",
          "name": "stdout",
          "text": [
            "1001 <class 'str'>\n"
          ]
        }
      ]
    },
    {
      "cell_type": "markdown",
      "source": [
        "**018 문자열을 실수로 변환**\n",
        "\n",
        "문자열 \"15.79\"를 실수(float) 타입으로 변환해보세요."
      ],
      "metadata": {
        "id": "0mwbvewYi2NK"
      }
    },
    {
      "cell_type": "code",
      "source": [
        "str = \"15.79\"\n",
        "float = float(str)\n",
        "print(float, type(float))"
      ],
      "metadata": {
        "colab": {
          "base_uri": "https://localhost:8080/"
        },
        "id": "9eo0601si4Dc",
        "outputId": "cad863c5-af4a-4925-972b-881b7258ebd4"
      },
      "execution_count": 39,
      "outputs": [
        {
          "output_type": "stream",
          "name": "stdout",
          "text": [
            "15.79 <class 'float'>\n"
          ]
        }
      ]
    },
    {
      "cell_type": "markdown",
      "source": [
        "**019 문자열을 정수로 변환**\n",
        "\n",
        "year라는 변수가 문자열 타입의 연도를 바인딩하고 있습니다. 이를 정수로 변환한 후 최근 3년의 연도를 화면에 출력해보세요.\n",
        "\n",
        "year = \"2024\""
      ],
      "metadata": {
        "id": "h1QmqL-TjFjO"
      }
    },
    {
      "cell_type": "code",
      "source": [
        "year = \"2024\"\n",
        "\n",
        "print(int(year)-1)\n",
        "print(int(year)-2)\n",
        "print(int(year)-3)"
      ],
      "metadata": {
        "colab": {
          "base_uri": "https://localhost:8080/"
        },
        "id": "ggNInW_KjCKB",
        "outputId": "a3a00d97-a872-4b78-e2a4-93c547a79e23"
      },
      "execution_count": 43,
      "outputs": [
        {
          "output_type": "stream",
          "name": "stdout",
          "text": [
            "2023\n",
            "2022\n",
            "2021\n"
          ]
        }
      ]
    },
    {
      "cell_type": "markdown",
      "source": [
        "**020 파이썬 계산**\n",
        "\n",
        "에이컨이 월 48,584원에 무이자 36개월의 조건으로 홈쇼핑에서 판매되고 있습니다. 총 금액은 계산한 후 이를 화면에 출력해보세요. (변수사용하기)"
      ],
      "metadata": {
        "id": "Z5LH7LOvjbH1"
      }
    },
    {
      "cell_type": "code",
      "source": [
        "month = 48584\n",
        "sum = month*36\n",
        "\n",
        "print(sum)"
      ],
      "metadata": {
        "colab": {
          "base_uri": "https://localhost:8080/"
        },
        "id": "h9jxrZlHjcdz",
        "outputId": "0d6650b7-fa84-4612-da76-6ec3d35bd53d"
      },
      "execution_count": 45,
      "outputs": [
        {
          "output_type": "stream",
          "name": "stdout",
          "text": [
            "1749024\n"
          ]
        }
      ]
    }
  ]
}