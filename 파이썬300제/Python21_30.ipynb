{
  "nbformat": 4,
  "nbformat_minor": 0,
  "metadata": {
    "colab": {
      "provenance": []
    },
    "kernelspec": {
      "name": "python3",
      "display_name": "Python 3"
    },
    "language_info": {
      "name": "python"
    }
  },
  "cells": [
    {
      "cell_type": "markdown",
      "source": [
        "**021 문자열 인덱싱**\n",
        "\n",
        "letters가 바인딩하는 문자열에서 첫번째와 세번째 문자를 출력하세요.\n",
        ">> letters = 'python'\n",
        "\n",
        "실행 예\n",
        "p t"
      ],
      "metadata": {
        "id": "tGaRqz9whZRv"
      }
    },
    {
      "cell_type": "code",
      "execution_count": 46,
      "metadata": {
        "colab": {
          "base_uri": "https://localhost:8080/"
        },
        "id": "ltcrVQ62g2dX",
        "outputId": "821d69d9-2959-4c4d-f1ac-384bde0bddd0"
      },
      "outputs": [
        {
          "output_type": "stream",
          "name": "stdout",
          "text": [
            "p t\n"
          ]
        }
      ],
      "source": [
        "letters = 'python'\n",
        "\n",
        "print(letters[0],letters[2])"
      ]
    },
    {
      "cell_type": "markdown",
      "source": [
        "**022 문자열 슬라이싱**\n",
        "\n",
        "자동차 번호가 다음과 같을 때 뒤에 4자리만 출력하세요.\n",
        "\n",
        ">> license_plate = \"24가 2210\"\n",
        "\n",
        "실행 예: 2210\n"
      ],
      "metadata": {
        "id": "IWffC9r2hdv7"
      }
    },
    {
      "cell_type": "code",
      "source": [
        "license_plate=\"24가 2210\"\n",
        "\n",
        "print(license_plate[-4:])"
      ],
      "metadata": {
        "colab": {
          "base_uri": "https://localhost:8080/"
        },
        "id": "bpKK9WC4hhyQ",
        "outputId": "3c32b772-9ffc-4f2f-dd56-eacbd4ae88d6"
      },
      "execution_count": 59,
      "outputs": [
        {
          "output_type": "stream",
          "name": "stdout",
          "text": [
            "2210\n"
          ]
        }
      ]
    },
    {
      "cell_type": "markdown",
      "source": [
        "**023 문자열 인덱싱**\n",
        "\n",
        "아래의 문자열에서 '홀' 만 출력하세요.\n",
        "\n",
        ">> string = \"홀짝홀짝홀짝\"\n",
        "\n",
        "실행\n",
        "예: 홀홀홀"
      ],
      "metadata": {
        "id": "3mVuIxXAhngy"
      }
    },
    {
      "cell_type": "code",
      "source": [
        "string=\"홀짝홀짝홀짝\"\n",
        "\n",
        "print(string[::2])"
      ],
      "metadata": {
        "colab": {
          "base_uri": "https://localhost:8080/"
        },
        "id": "kHBqPEjvhmqw",
        "outputId": "d1b79290-c541-4b7c-daf7-2c51b3237985"
      },
      "execution_count": 84,
      "outputs": [
        {
          "output_type": "stream",
          "name": "stdout",
          "text": [
            "홀홀홀\n"
          ]
        }
      ]
    },
    {
      "cell_type": "markdown",
      "source": [
        "**024 문자열 슬라이싱**\n",
        "\n",
        "문자열을 거꾸로 뒤집어 출력하세요.\n",
        "\n",
        ">> string = \"PYTHON\"\n",
        "\n",
        "실행 예:\n",
        "NOHTYP"
      ],
      "metadata": {
        "id": "fKto9LmUh2Q9"
      }
    },
    {
      "cell_type": "code",
      "source": [
        "string=\"PYTHON\"\n",
        "\n",
        "print(string[::-1])"
      ],
      "metadata": {
        "colab": {
          "base_uri": "https://localhost:8080/"
        },
        "id": "nPbhmB0_hnG7",
        "outputId": "3c3cd5e2-4d4f-483b-bab8-1a00a40e22ac"
      },
      "execution_count": 90,
      "outputs": [
        {
          "output_type": "stream",
          "name": "stdout",
          "text": [
            "NOHTYP\n"
          ]
        }
      ]
    },
    {
      "cell_type": "markdown",
      "source": [
        "**025 문자열 치환**\n",
        "\n",
        "아래의 전화번호에서 하이푼 ('-')을 제거하고 출력하세요.\n",
        "\n",
        ">> phone_number = \"010-1111-2222\"\n",
        "\n",
        "실행 예\n",
        "010 1111 2222"
      ],
      "metadata": {
        "id": "_JlZVvJAiD0-"
      }
    },
    {
      "cell_type": "code",
      "source": [
        "phone_number=\"010-1111-2222\"\n",
        "\n",
        "print(phone_number.replace(\"-\",\" \"))\n",
        "#문자열은 수정할 수 없는 자료형이므로\n",
        "#기존 문자열은 그대로 두고 replace메서드로 치환된 새로운 문자열이 리턴"
      ],
      "metadata": {
        "colab": {
          "base_uri": "https://localhost:8080/"
        },
        "id": "y61-fO3Nh84K",
        "outputId": "a6c741cf-a68c-4ecd-9826-727a26594d4f"
      },
      "execution_count": 95,
      "outputs": [
        {
          "output_type": "stream",
          "name": "stdout",
          "text": [
            "010 1111 2222\n"
          ]
        }
      ]
    },
    {
      "cell_type": "markdown",
      "source": [
        "**026 문자열 다루기**\n",
        "\n",
        "25번 문제의 전화번호를 아래와 같이 모두 붙여 출력하세요.\n",
        "\n",
        "\n",
        "실행\n",
        "예: 01011112222"
      ],
      "metadata": {
        "id": "GwX-qRRiiPgY"
      }
    },
    {
      "cell_type": "code",
      "source": [
        "phone_number=\"010-1111-2222\"\n",
        "\n",
        "print(phone_number.replace(\"-\",\"\"))"
      ],
      "metadata": {
        "colab": {
          "base_uri": "https://localhost:8080/"
        },
        "id": "2G_eHA7ziLi3",
        "outputId": "2a170ccc-5fc3-4fa3-85eb-0de926d63d0a"
      },
      "execution_count": 97,
      "outputs": [
        {
          "output_type": "stream",
          "name": "stdout",
          "text": [
            "01011112222\n"
          ]
        }
      ]
    },
    {
      "cell_type": "markdown",
      "source": [
        "**027 문자열 다루기**\n",
        "\n",
        "url 에 저장된 웹 페이지 주소에서 도메인을 출력하세요.\n",
        "\n",
        "\n",
        ">> url = \"http://sharebook.kr\"\n",
        "\n",
        "실행 예:\n",
        "kr"
      ],
      "metadata": {
        "id": "zDiu8al5igaz"
      }
    },
    {
      "cell_type": "code",
      "source": [
        "url = \"http://sharebook.kr\"\n",
        "split = url.split('.')\n",
        "print(split[-1])"
      ],
      "metadata": {
        "colab": {
          "base_uri": "https://localhost:8080/"
        },
        "id": "TbpVxLuYihfZ",
        "outputId": "6d10c52b-69a7-4a0b-c2ae-3969217a08a7"
      },
      "execution_count": 107,
      "outputs": [
        {
          "output_type": "stream",
          "name": "stdout",
          "text": [
            "kr\n"
          ]
        }
      ]
    },
    {
      "cell_type": "markdown",
      "source": [
        "**028 문자열은 immutable**\n",
        "\n",
        "아래 코드의 실행 결과를 예상해보세요.\n",
        "\n",
        "\n",
        ">> lang = 'python'\n",
        "\n",
        ">> lang[0] = 'P'\n",
        "\n",
        ">> print(lang)"
      ],
      "metadata": {
        "id": "0mwbvewYi2NK"
      }
    },
    {
      "cell_type": "code",
      "source": [
        "lang='python'\n",
        "lang[0] ='P'\n",
        "print(lang)\n",
        "\n",
        "#  assignment 에러\n",
        "# 문자열은 수정할 수 없다. 할당(assignment) 메서드 지원 안함."
      ],
      "metadata": {
        "colab": {
          "base_uri": "https://localhost:8080/",
          "height": 183
        },
        "id": "9eo0601si4Dc",
        "outputId": "05c44955-90bc-4d7d-9010-f58bb5263241"
      },
      "execution_count": 108,
      "outputs": [
        {
          "output_type": "error",
          "ename": "TypeError",
          "evalue": "'str' object does not support item assignment",
          "traceback": [
            "\u001b[0;31m---------------------------------------------------------------------------\u001b[0m",
            "\u001b[0;31mTypeError\u001b[0m                                 Traceback (most recent call last)",
            "\u001b[0;32m<ipython-input-108-6529916c5379>\u001b[0m in \u001b[0;36m<cell line: 2>\u001b[0;34m()\u001b[0m\n\u001b[1;32m      1\u001b[0m \u001b[0mlang\u001b[0m\u001b[0;34m=\u001b[0m\u001b[0;34m'python'\u001b[0m\u001b[0;34m\u001b[0m\u001b[0;34m\u001b[0m\u001b[0m\n\u001b[0;32m----> 2\u001b[0;31m \u001b[0mlang\u001b[0m\u001b[0;34m[\u001b[0m\u001b[0;36m0\u001b[0m\u001b[0;34m]\u001b[0m \u001b[0;34m=\u001b[0m\u001b[0;34m'P'\u001b[0m\u001b[0;34m\u001b[0m\u001b[0;34m\u001b[0m\u001b[0m\n\u001b[0m\u001b[1;32m      3\u001b[0m \u001b[0mprint\u001b[0m\u001b[0;34m(\u001b[0m\u001b[0mlang\u001b[0m\u001b[0;34m)\u001b[0m\u001b[0;34m\u001b[0m\u001b[0;34m\u001b[0m\u001b[0m\n",
            "\u001b[0;31mTypeError\u001b[0m: 'str' object does not support item assignment"
          ]
        }
      ]
    },
    {
      "cell_type": "markdown",
      "source": [
        "**029 replace 메서드**\n",
        "\n",
        "아래 문자열에서 소문자 'a'를 대문자 'A'로 변경하세요.\n",
        "\n",
        "\n",
        ">> string = 'abcdfe2a354a32a'\n",
        "\n",
        "실행 예:\n",
        "Abcdfe2A354A32A"
      ],
      "metadata": {
        "id": "h1QmqL-TjFjO"
      }
    },
    {
      "cell_type": "code",
      "source": [
        "string = 'abcdfe2a354a32a'\n",
        "print(string.replace('a','A'))"
      ],
      "metadata": {
        "colab": {
          "base_uri": "https://localhost:8080/"
        },
        "id": "ggNInW_KjCKB",
        "outputId": "c9dd478a-8e0d-44a4-f4e5-76f4f2b854d7"
      },
      "execution_count": 109,
      "outputs": [
        {
          "output_type": "stream",
          "name": "stdout",
          "text": [
            "Abcdfe2A354A32A\n"
          ]
        }
      ]
    },
    {
      "cell_type": "markdown",
      "source": [
        "**030 replace 메서드**\n",
        "\n",
        "아래 코드의 실행 결과를 예상해보세요.\n",
        "\n",
        ">> string = 'abcd'\n",
        "\n",
        ">> string.replace('b', 'B')\n",
        "\n",
        ">> print(string)"
      ],
      "metadata": {
        "id": "Z5LH7LOvjbH1"
      }
    },
    {
      "cell_type": "code",
      "source": [
        "string='abcd'\n",
        "string.replace('b','B')\n",
        "\n",
        "print(string) #변경안됨\n",
        "\n",
        "\n",
        "print(string.replace('b','B'))"
      ],
      "metadata": {
        "colab": {
          "base_uri": "https://localhost:8080/"
        },
        "id": "h9jxrZlHjcdz",
        "outputId": "1f356aaa-e382-4bb8-b951-b03d5aafc1c1"
      },
      "execution_count": 112,
      "outputs": [
        {
          "output_type": "stream",
          "name": "stdout",
          "text": [
            "abcd\n",
            "aBcd\n"
          ]
        }
      ]
    }
  ]
}