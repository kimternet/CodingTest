{
  "nbformat": 4,
  "nbformat_minor": 0,
  "metadata": {
    "colab": {
      "provenance": []
    },
    "kernelspec": {
      "name": "python3",
      "display_name": "Python 3"
    },
    "language_info": {
      "name": "python"
    }
  },
  "cells": [
    {
      "cell_type": "markdown",
      "source": [
        "**101**\n",
        "\n",
        "파이썬에서 True 혹은 False를 갖는 데이터 타입은 무엇인가?"
      ],
      "metadata": {
        "id": "3W4IE9jZZwk3"
      }
    },
    {
      "cell_type": "code",
      "source": [
        "bool = True, False"
      ],
      "metadata": {
        "id": "YdvnkLw1ZyFw"
      },
      "execution_count": null,
      "outputs": []
    },
    {
      "cell_type": "markdown",
      "source": [
        "**102**\n",
        "\n",
        "아래 코드의 출력 결과를 예상하라\n",
        "\n",
        "print(3 == 5)"
      ],
      "metadata": {
        "id": "TNLgl7cpZ5zH"
      }
    },
    {
      "cell_type": "code",
      "source": [
        "# False\n",
        "print(3==5)"
      ],
      "metadata": {
        "colab": {
          "base_uri": "https://localhost:8080/"
        },
        "id": "fSIG9jIDZ7m3",
        "outputId": "2d53385d-f973-4dfd-faf5-472975337d3c"
      },
      "execution_count": 1,
      "outputs": [
        {
          "output_type": "stream",
          "name": "stdout",
          "text": [
            "False\n"
          ]
        }
      ]
    },
    {
      "cell_type": "markdown",
      "source": [
        "**103**\n",
        "\n",
        "아래 코드의 출력 결과를 예상하라\n",
        "\n",
        "print(3 < 5)"
      ],
      "metadata": {
        "id": "jW_tLjAEaDTo"
      }
    },
    {
      "cell_type": "code",
      "source": [
        "print(3<5)"
      ],
      "metadata": {
        "colab": {
          "base_uri": "https://localhost:8080/"
        },
        "id": "BdkzNixCaEP3",
        "outputId": "9066cc05-c254-4db6-b864-2661b5cd3bec"
      },
      "execution_count": 2,
      "outputs": [
        {
          "output_type": "stream",
          "name": "stdout",
          "text": [
            "True\n"
          ]
        }
      ]
    },
    {
      "cell_type": "markdown",
      "source": [
        "**104**\n",
        "\n",
        "아래 코드의 결과를 예상하라.\n",
        "\n",
        "x = 4\n",
        "\n",
        "print(1 < x < 5)"
      ],
      "metadata": {
        "id": "0Vn8FoZOaGvf"
      }
    },
    {
      "cell_type": "code",
      "source": [
        "# True\n",
        "x = 4\n",
        "\n",
        "print(1<x<5)"
      ],
      "metadata": {
        "colab": {
          "base_uri": "https://localhost:8080/"
        },
        "id": "C9ezUDU1aIQA",
        "outputId": "cf76d440-0f80-4728-9425-9ebd39d63e45"
      },
      "execution_count": 3,
      "outputs": [
        {
          "output_type": "stream",
          "name": "stdout",
          "text": [
            "True\n"
          ]
        }
      ]
    },
    {
      "cell_type": "markdown",
      "source": [
        "**105**\n",
        "\n",
        "아래 코드의 결과를 예상하라.\n",
        "\n",
        "print ((3 == 3) and (4 != 3))"
      ],
      "metadata": {
        "id": "Hy_i5g5TaN9P"
      }
    },
    {
      "cell_type": "code",
      "source": [
        "# True\n",
        "\n",
        "# 3==3은 같으니 트루, 4와 3은 같지 않으니 트루\n",
        "print((3==3) and (4!=3))"
      ],
      "metadata": {
        "colab": {
          "base_uri": "https://localhost:8080/"
        },
        "id": "PICce5MeaOun",
        "outputId": "6ca3a059-268e-40c2-dc84-a3683bb1dc4e"
      },
      "execution_count": 4,
      "outputs": [
        {
          "output_type": "stream",
          "name": "stdout",
          "text": [
            "True\n"
          ]
        }
      ]
    },
    {
      "cell_type": "markdown",
      "source": [
        "**106**\n",
        "\n",
        "아래 코드에서 에러가 발생하는 원인에 대해 설명하라.\n",
        "\n",
        "print(3 => 4)"
      ],
      "metadata": {
        "id": "DJnI7ZA9aWa5"
      }
    },
    {
      "cell_type": "code",
      "source": [
        "# 지원하지 않는 연산자다.\n",
        "print(3=>4)"
      ],
      "metadata": {
        "colab": {
          "base_uri": "https://localhost:8080/",
          "height": 110
        },
        "id": "UIw4qR8zaYYo",
        "outputId": "c305d82f-c93e-4241-e255-f1127fa1ba07"
      },
      "execution_count": 5,
      "outputs": [
        {
          "output_type": "error",
          "ename": "SyntaxError",
          "evalue": "expression cannot contain assignment, perhaps you meant \"==\"? (<ipython-input-5-170b4e660e0b>, line 1)",
          "traceback": [
            "\u001b[0;36m  File \u001b[0;32m\"<ipython-input-5-170b4e660e0b>\"\u001b[0;36m, line \u001b[0;32m1\u001b[0m\n\u001b[0;31m    print(3=>4)\u001b[0m\n\u001b[0m          ^\u001b[0m\n\u001b[0;31mSyntaxError\u001b[0m\u001b[0;31m:\u001b[0m expression cannot contain assignment, perhaps you meant \"==\"?\n"
          ]
        }
      ]
    },
    {
      "cell_type": "markdown",
      "source": [
        "**107**\n",
        "\n",
        "아래 코드의 출력 결과를 예상하라\n",
        "\n",
        "if 4 < 3:\n",
        "\n",
        "    print(\"Hello World\")"
      ],
      "metadata": {
        "id": "4zbxF03qaodn"
      }
    },
    {
      "cell_type": "code",
      "source": [
        "# 조건이 맞지 않아 출력이 없다.\n",
        "if 4<3:\n",
        "  print(\"Hello World\")\n",
        "\n",
        "# 부등호의 위치를 바꾸면 출력\n",
        "# if 4 > 3:\n",
        "#   print(\"Hello World\")"
      ],
      "metadata": {
        "id": "Ca_-exE9aqTf"
      },
      "execution_count": 7,
      "outputs": []
    },
    {
      "cell_type": "markdown",
      "source": [
        "**108**\n",
        "\n",
        "아래 코드의 출력 결과를 예상하라\n",
        "\n",
        "if 4 < 3:\n",
        "\n",
        "    print(\"Hello World.\")\n",
        "\n",
        "else:\n",
        "\n",
        "    print(\"Hi, there.\")\n",
        "    "
      ],
      "metadata": {
        "id": "JklhWUqda-lg"
      }
    },
    {
      "cell_type": "code",
      "source": [
        "if 4<3:\n",
        "  print(\"Hello World.\") # 조건이 맞지 않아 다음 else문으로 넘어간다.\n",
        "\n",
        "else:\n",
        "  print(\"Hi, there.\") # 조건이 충족되므로 \"Hi, there이 출력\""
      ],
      "metadata": {
        "colab": {
          "base_uri": "https://localhost:8080/"
        },
        "id": "oG9GBD78bCvn",
        "outputId": "63daf6d5-809a-423a-81c5-becc035b4e13"
      },
      "execution_count": 8,
      "outputs": [
        {
          "output_type": "stream",
          "name": "stdout",
          "text": [
            "Hi, there.\n"
          ]
        }
      ]
    },
    {
      "cell_type": "markdown",
      "source": [
        "**109**\n",
        "\n",
        "아래 코드의 출력 결과를 예상하라\n"
      ],
      "metadata": {
        "id": "BjZmo-pFbM5g"
      }
    },
    {
      "cell_type": "code",
      "source": [
        "# 1, 2가 출력이 되고, 최종적으로 if문을 빠져나와 4까지 출력이 된다.\n",
        "# 총 1, 2, 4\n",
        "if True :\n",
        "    print (\"1\")\n",
        "    print (\"2\")\n",
        "else :\n",
        "    print(\"3\")\n",
        "print(\"4\")"
      ],
      "metadata": {
        "colab": {
          "base_uri": "https://localhost:8080/"
        },
        "id": "x2_Y3wIKbQ-4",
        "outputId": "41124146-74a9-4a62-8153-45200118acf1"
      },
      "execution_count": 9,
      "outputs": [
        {
          "output_type": "stream",
          "name": "stdout",
          "text": [
            "1\n",
            "2\n",
            "4\n"
          ]
        }
      ]
    },
    {
      "cell_type": "markdown",
      "source": [
        "**110**\n",
        "\n",
        "아래 코드의 출력 결과를 예상하라"
      ],
      "metadata": {
        "id": "1JuCvKLHbteo"
      }
    },
    {
      "cell_type": "code",
      "source": [
        "# 첫 번째 True문으로 진입 후 False가 아니니 else문의 3을 출력\n",
        "# 첫 번째 조건에 만족되었으니, 두 번째 else문은 pass\n",
        "# if문 전체를 빠져나와 5를 출력\n",
        "# 최종 3, 5 출력\n",
        "if True :\n",
        "    if False:\n",
        "        print(\"1\")\n",
        "        print(\"2\")\n",
        "    else:\n",
        "        print(\"3\")\n",
        "else :\n",
        "    print(\"4\")\n",
        "print(\"5\")"
      ],
      "metadata": {
        "colab": {
          "base_uri": "https://localhost:8080/"
        },
        "id": "ldJO0YSWbwzx",
        "outputId": "14a97bbe-e2b7-427c-91fb-6548ab2f5031"
      },
      "execution_count": 10,
      "outputs": [
        {
          "output_type": "stream",
          "name": "stdout",
          "text": [
            "3\n",
            "5\n"
          ]
        }
      ]
    }
  ]
}