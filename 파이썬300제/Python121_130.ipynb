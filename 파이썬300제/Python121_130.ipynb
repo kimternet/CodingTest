{
  "nbformat": 4,
  "nbformat_minor": 0,
  "metadata": {
    "colab": {
      "provenance": []
    },
    "kernelspec": {
      "name": "python3",
      "display_name": "Python 3"
    },
    "language_info": {
      "name": "python"
    }
  },
  "cells": [
    {
      "cell_type": "markdown",
      "source": [
        "**121**\n",
        "\n",
        "사용자로부터 문자 한 개를 입력 받고, 소문자일 경우\n",
        "\n",
        "대문자로, 대문자 일 경우, 소문자로 변경해서 출력하라."
      ],
      "metadata": {
        "id": "PN_gMeGwuayP"
      }
    },
    {
      "cell_type": "code",
      "execution_count": 1,
      "metadata": {
        "colab": {
          "base_uri": "https://localhost:8080/"
        },
        "id": "m3KGccw3uWa3",
        "outputId": "7806c62d-4769-40ba-b372-b968c7a28f27"
      },
      "outputs": [
        {
          "output_type": "stream",
          "name": "stdout",
          "text": [
            "a\n",
            "A\n"
          ]
        }
      ],
      "source": [
        "user = input(\"\")\n",
        "if user.islower():\n",
        "  print(user.upper())\n",
        "else:\n",
        "  print(user.lower())"
      ]
    },
    {
      "cell_type": "markdown",
      "source": [
        "**122**\n",
        "\n",
        "점수 구간에 해당하는 학점이 아래와 같이 정의되어 있다.\n",
        "\n",
        "사용자로부터 score를 입력받아 학점을 출력하라.\n",
        "\n",
        "점수\t학점\n",
        "\n",
        "81~100\tA\n",
        "\n",
        "61~80\tB\n",
        "\n",
        "41~60\tC\n",
        "\n",
        "21~40\tD\n",
        "\n",
        "0~20\tE"
      ],
      "metadata": {
        "id": "gZcylFhGurWv"
      }
    },
    {
      "cell_type": "code",
      "source": [
        "score = input(\"score: \")\n",
        "\n",
        "score = int(score)\n",
        "\n",
        "if 81 <= score <=100:\n",
        "  print(\"A\")\n",
        "elif 61 <= score <= 80:\n",
        "  print(\"B\")\n",
        "elif 41 <= score <= 60:\n",
        "  print(\"C\")\n",
        "elif 21 <= score <= 40:\n",
        "  print(\"D\")\n",
        "else:\n",
        "  print(\"E\")"
      ],
      "metadata": {
        "colab": {
          "base_uri": "https://localhost:8080/"
        },
        "id": "G4b5LhhnuuYf",
        "outputId": "56110d2e-0ccc-4a62-9781-c93251333d9d"
      },
      "execution_count": 7,
      "outputs": [
        {
          "output_type": "stream",
          "name": "stdout",
          "text": [
            "score: 100\n",
            "A\n"
          ]
        }
      ]
    },
    {
      "cell_type": "markdown",
      "source": [
        "**123**\n",
        "\n",
        "사용자로부터 달러, 엔, 유로, 또는 위안 금액을 입력받은 후 이를 원으로 변환하는 프로그램을 작성하라.\n",
        "각 통화별 환율은 다음과 같다.\n",
        "사용자는 100 달러, 1000 엔, 13 유로, 100 위안과 같이 금액과 통화명 사이에 공백을 넣어 입력한다고 가정한다.\n",
        "\n",
        "\n",
        "\n",
        "통화명\t환율\n",
        "\n",
        "달러\t1167\n",
        "\n",
        "엔\t1.096\n",
        "\n",
        "유로\t1268\n",
        "\n",
        "위안\t171"
      ],
      "metadata": {
        "id": "EMle3vR2vdJp"
      }
    },
    {
      "cell_type": "code",
      "source": [
        "환율 = {\"달러\": 1167,\n",
        "        \"엔\": 1.096,\n",
        "        \"유로\": 1268,\n",
        "        \"위안\": 171}\n",
        "user = input(\"입력: \")\n",
        "num, currency = user.split()\n",
        "print(float(num) * 환율[currency], \"원\")"
      ],
      "metadata": {
        "colab": {
          "base_uri": "https://localhost:8080/"
        },
        "id": "mARG45Ygvfb5",
        "outputId": "0ba30ef0-9390-4674-f634-0e96ef38302b"
      },
      "execution_count": 11,
      "outputs": [
        {
          "output_type": "stream",
          "name": "stdout",
          "text": [
            "입력: 13 유로\n",
            "16484.0 원\n"
          ]
        }
      ]
    },
    {
      "cell_type": "markdown",
      "source": [
        "**124**\n",
        "\n",
        "사용자로부터 세 개의 숫자를 입력 받은 후 가장 큰 숫자를 출력하라."
      ],
      "metadata": {
        "id": "WvJs_iulv2sS"
      }
    },
    {
      "cell_type": "code",
      "source": [
        "num1 = input(\"input number1: \")\n",
        "num2 = input(\"input number2: \")\n",
        "num3 = input(\"input number3: \")\n",
        "num1 = int(num1)\n",
        "num2 = int(num2)\n",
        "num3 = int(num3)\n",
        "\n",
        "if num1 >= num2 and num1 >= num3:\n",
        "    print(num1)\n",
        "elif num2 >= num1 and num2 >= num3:\n",
        "    print(num2)\n",
        "else:\n",
        "    print(num3)"
      ],
      "metadata": {
        "colab": {
          "base_uri": "https://localhost:8080/"
        },
        "id": "Dc15B_QQv59h",
        "outputId": "8380bb0b-b7db-437b-b412-8f54267712cd"
      },
      "execution_count": 12,
      "outputs": [
        {
          "output_type": "stream",
          "name": "stdout",
          "text": [
            "input number1: 2\n",
            "input number2: 3\n",
            "input number3: 4\n",
            "4\n"
          ]
        }
      ]
    },
    {
      "cell_type": "markdown",
      "source": [
        "**125**\n",
        "\n",
        "휴대폰 번호 앞자리에 따라 통신사는 아래와 같이 구분된다.\n",
        "사용자로부터 휴대전화 번호를 입력 받고, 통신사를 출력하는 프로그램을 작성하라.\n",
        "\n",
        "번호\t통신사\n",
        "\n",
        "011\tSKT\n",
        "\n",
        "016\tKT\n",
        "\n",
        "019\tLGU\n",
        "\n",
        "010\t알수없음"
      ],
      "metadata": {
        "id": "WAlJOr1pwADT"
      }
    },
    {
      "cell_type": "code",
      "source": [
        "number = input(\"휴대전화 번호 입력: \")\n",
        "num = number.split(\"-\")[0]\n",
        "if num == \"011\":\n",
        "    com = \"SKT\"\n",
        "elif num == \"016\":\n",
        "    com = \"KT\"\n",
        "elif num == \"019\":\n",
        "    com = \"LGU\"\n",
        "else:\n",
        "    com = \"알수없음\"\n",
        "print(f\"당신은 {com} 사용자입니다.\")"
      ],
      "metadata": {
        "colab": {
          "base_uri": "https://localhost:8080/"
        },
        "id": "lpCtqSwkwCIz",
        "outputId": "a3eb5840-e3f2-4957-a5be-31c20d7adf7b"
      },
      "execution_count": 14,
      "outputs": [
        {
          "output_type": "stream",
          "name": "stdout",
          "text": [
            "휴대전화 번호 입력: 01011223344\n",
            "당신은 알수없음 사용자입니다.\n"
          ]
        }
      ]
    },
    {
      "cell_type": "markdown",
      "source": [
        "**126**\n",
        "\n",
        "우편번호는 5자리로 구성되는데, 앞의 세자리는 구를 나타낸다.\n",
        "예를들어, 강북구의 경우 010, 011, 012 세 자리로 시작한다.\n",
        "\n",
        "-\t0\t1\t2\t3\t4\t5\t6\t7\t8\t9\n",
        "\n",
        "01\t강북구\t강북구\t강북구\t도봉구\t도봉구\t도봉구\t노원구\n",
        "\n",
        "노원구\t노원구\t노원구\n",
        "\n",
        "사용자로 부터 5자리 우편번호를 입력받고 구를 판별하라"
      ],
      "metadata": {
        "id": "v-7o61EPwMCV"
      }
    },
    {
      "cell_type": "code",
      "source": [
        "우편번호 = input(\"우편번호: \")\n",
        "우편번호 = 우편번호[:3]\n",
        "if 우편번호 in [\"010\", \"011\", \"012\"]:\n",
        "    print(\"강북구\")\n",
        "elif 우편번호 in [\"014\", \"015\", \"016\"]:\n",
        "    print(\"도봉구\")\n",
        "else:\n",
        "    print(\"노원구\")"
      ],
      "metadata": {
        "colab": {
          "base_uri": "https://localhost:8080/"
        },
        "id": "_-rM2tKJwPlt",
        "outputId": "0ed90f51-87d5-41fc-a9f2-903127134da0"
      },
      "execution_count": 15,
      "outputs": [
        {
          "output_type": "stream",
          "name": "stdout",
          "text": [
            "우편번호: 010\n",
            "강북구\n"
          ]
        }
      ]
    },
    {
      "cell_type": "markdown",
      "source": [
        "**127**\n",
        "\n",
        "주민등록번호 뒷 자리 7자리 중 첫째 자리는 성별을 나타내는데, 1, 3은 남자 2, 4는 여자를 의미한다.\n",
        "\n",
        "사용자로부터 13자리의 주민등록번호를 입력 받은 후 성별 (남자, 여자)를 출력하는 프로그램을 작성하라."
      ],
      "metadata": {
        "id": "-Og19gKywXAk"
      }
    },
    {
      "cell_type": "code",
      "source": [
        "주민번호 = input(\"주민등록번호: \")\n",
        "주민번호 = 주민번호.split(\"-\")[1]\n",
        "if 주민번호[0] == \"1\" or 주민번호[0] == \"3\":\n",
        "    print(\"남자\")\n",
        "else:\n",
        "    print(\"여자\")"
      ],
      "metadata": {
        "colab": {
          "base_uri": "https://localhost:8080/"
        },
        "id": "VrxDMOrFwYyF",
        "outputId": "6d407cce-0d92-435d-d8c5-2c6fcd426588"
      },
      "execution_count": 18,
      "outputs": [
        {
          "output_type": "stream",
          "name": "stdout",
          "text": [
            "주민등록번호: 111111-2222222\n",
            "여자\n"
          ]
        }
      ]
    },
    {
      "cell_type": "markdown",
      "source": [
        "**128**\n",
        "\n",
        "주민등록번호의 뒷 자리 7자리 중 두번째와 세번째는 지역코드를 의미한다.\n",
        "\n",
        "주민 등록 번호를 입력 받은 후 출생지가 서울인지 아닌지 판단하는 코드를 작성하라\n",
        "\n",
        "지역코드\t출생지\n",
        "\n",
        "00 ~ 08\t서울\n",
        "\n",
        "09 ~ 12\t부산"
      ],
      "metadata": {
        "id": "tqf_diA4xppZ"
      }
    },
    {
      "cell_type": "code",
      "source": [
        "주민번호 = input(\"주민등록번호: \")\n",
        "뒷자리 = 주민번호.split(\"-\")[1]\n",
        "if 0 <= int(뒷자리[1:3]) <= 8:\n",
        "    print(\"서울입니다.\")\n",
        "else:\n",
        "    print(\"서울이 아닙니다.\")"
      ],
      "metadata": {
        "colab": {
          "base_uri": "https://localhost:8080/"
        },
        "id": "5DSl58qxxsPq",
        "outputId": "344921f7-13dc-4f8d-fa6c-0ebd9d87a47c"
      },
      "execution_count": 19,
      "outputs": [
        {
          "output_type": "stream",
          "name": "stdout",
          "text": [
            "주민등록번호: 111111-2222222\n",
            "서울이 아닙니다.\n"
          ]
        }
      ]
    },
    {
      "cell_type": "markdown",
      "source": [
        "**129**\n",
        "\n",
        "주민등록번호는 13자리로 구성되는데 마지막 자리수는 주민등록번호의 유효성을 체크하는데 사용된다.\n",
        "\n",
        "먼저 앞에서부터 12자리의 숫자에 2, 3, 4, 5, 6, 7, 8, 9, 2, 3, 4, 5를 차례로 곱한 뒤 그 값을 전부 더한다.\n",
        "\n",
        "연산 결과 값을 11로 나누면 나머지가 나오는데 11에서 나머지를 뺀 값이 주민등록번호의 마지막 번호가 된다."
      ],
      "metadata": {
        "id": "Dc9tx_nIx6R6"
      }
    },
    {
      "cell_type": "code",
      "source": [
        "'''\n",
        "  8 2 1 0 1 0 - 1 6 3 5 2 1 0\n",
        "x 2 3 4 5 6 7   8 9 2 3 4 5\n",
        "-----------------------------\n",
        "1차 계산: (8*2 + 2*3 + 1*4 + 0*5 + 1*6 + 0*7 + 1*8 + 6*9 + 3*2 + 5*3 + 2*4 + 1*5) = (128 % 11) = 7\n",
        "2차 계산: 11 -7 = 4\n",
        "\n",
        "위와 같이 821010-1635210에 대해서 계산을 해보면 마지막 자리는 4가 되어야 함을 알 수 있다. 즉, 821010-1635210은 유효하지 않은 주민등록번호임을 알 수 있다.\n",
        "\n",
        "다음과 같이 사용자로부터 주민등록번호를 입력받은 후 주민등록번호가 유효한지를 출력하는 프로그램을 작성하라.\n",
        "\n",
        "'''"
      ],
      "metadata": {
        "id": "azFQDksLx9Az"
      },
      "execution_count": null,
      "outputs": []
    },
    {
      "cell_type": "code",
      "source": [
        "num = input(\"주민등록번호: \")\n",
        "계산1 = int(num[0]) * 2 + int(num[1]) * 3 + int(num[2]) * 4 + int(num[3]) * 5 + int(num[4]) * 6 + \\\n",
        "        int(num[5]) * 7 + int(num[7]) * 8 + int(num[8]) * 9 + int(num[9]) * 2 + int(num[10])* 3 + \\\n",
        "        int(num[11])* 4 + int(num[12]) * 5\n",
        "계산2 = 11 - (계산1 % 11)\n",
        "계산3 = str(계산2)\n",
        "\n",
        "if num[-1] == 계산3[-1]:\n",
        "    print(\"유효한 주민등록번호입니다.\")\n",
        "else:\n",
        "    print(\"유효하지 않은 주민등록번호입니다.\")"
      ],
      "metadata": {
        "colab": {
          "base_uri": "https://localhost:8080/"
        },
        "id": "7c18Jl73yCSt",
        "outputId": "47781cbf-1492-4047-e709-dac6f55edf4f"
      },
      "execution_count": 20,
      "outputs": [
        {
          "output_type": "stream",
          "name": "stdout",
          "text": [
            "주민등록번호: 1111111111111\n",
            "유효하지 않은 주민등록번호입니다.\n"
          ]
        }
      ]
    },
    {
      "cell_type": "markdown",
      "source": [
        "**130**\n",
        "\n",
        "아래 코드는 비트코인의 가격 정보를 딕셔너리로 가져오는 코드이다."
      ],
      "metadata": {
        "id": "RKEqDu_cyLS9"
      }
    },
    {
      "cell_type": "code",
      "source": [
        "'''\n",
        "import requests\n",
        "btc = requests.get(\"https://api.bithumb.com/public/ticker/\").json()['data']\n",
        "btc 딕셔너리 안에는 시가, 종가, 최고가, 최저가 등이 저장되어 있다. 최고가와 최저가의 차이를 변동폭으로 정의할 때 (시가 + 변동폭)이 최고가 보다 높을 경우 \"상승장\", 그렇지 않은 경우 \"하락장\" 문자열을 출력하라.\n",
        "\n",
        "Key Name\tDescription\n",
        "opening_price\t최근 24시간 내 시작 거래금액\n",
        "closing_price\t최근 24시간 내 마지막 거래금액\n",
        "min_price\t최근 24시간 내 최저 거래금액\n",
        "max_price\t최근 24시간 내 최고 거래금액\n",
        "\n",
        "'''"
      ],
      "metadata": {
        "id": "VdgRAeaT7czI"
      },
      "execution_count": null,
      "outputs": []
    },
    {
      "cell_type": "code",
      "source": [
        "import requests\n",
        "btc = requests.get(\"https://api.bithumb.com/public/ticker/\").json()['data']\n",
        "\n",
        "변동폭 = float(btc['max_price']) - float(btc['min_price'])\n",
        "시가 = float(btc['opening_price'])\n",
        "최고가 = float(btc['max_price'])\n",
        "\n",
        "if (시가+변동폭) > 최고가:\n",
        "    print(\"상승장\")\n",
        "else:\n",
        "    print(\"하락장\")"
      ],
      "metadata": {
        "colab": {
          "base_uri": "https://localhost:8080/"
        },
        "id": "lFdkb7Ly7fXw",
        "outputId": "147e2653-1b3e-4a53-c692-0721681b47de"
      },
      "execution_count": 21,
      "outputs": [
        {
          "output_type": "stream",
          "name": "stdout",
          "text": [
            "상승장\n"
          ]
        }
      ]
    }
  ]
}