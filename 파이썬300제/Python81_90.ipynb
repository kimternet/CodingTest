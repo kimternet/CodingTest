{
  "nbformat": 4,
  "nbformat_minor": 0,
  "metadata": {
    "colab": {
      "provenance": []
    },
    "kernelspec": {
      "name": "python3",
      "display_name": "Python 3"
    },
    "language_info": {
      "name": "python"
    }
  },
  "cells": [
    {
      "cell_type": "markdown",
      "source": [
        "**081 별 표현식**\n",
        "\n",
        "기본적으로 데이터 언패킹은 좌변의 변수와 우변 데이터 개수가 같아야 합니다.\n",
        "\n",
        "하지만 star expression을 사용하면 변수의 개수가 달라도 데이터 언패킹을 할 수 있습니다.\n",
        "\n",
        "튜플에 저장된 데이터 중에서 앞에 있는 두 개의 데이터만 필요할 경우 나머지 데이터의 언패킹 코드를 작성할 필요가 없습니다."
      ],
      "metadata": {
        "id": "X9eg8xI3hbh0"
      }
    },
    {
      "cell_type": "code",
      "execution_count": null,
      "metadata": {
        "id": "DZEgNOk6hZIM"
      },
      "outputs": [],
      "source": [
        "# >> a, b, *c = (0, 1, 2, 3, 4, 5)\n",
        "# >> a\n",
        "# 0\n",
        "# >> b\n",
        "# 1\n",
        "# >> c\n",
        "# [2, 3, 4, 5]\n",
        "\n",
        "\n",
        "# 다음과 같이 10개의 값이 저장된 scores 리스트가 있을 때, start expression을 사용하여 좌측 8개의 값을 valid_score 변수에 바인딩하여라.\n",
        "\n",
        "scores = [8.8, 8.9, 8.7, 9.2, 9.3, 9.7, 9.9, 9.5, 7.8, 9.4]"
      ]
    },
    {
      "cell_type": "code",
      "source": [
        "scores = [8.8, 8.9, 8.7, 9.2, 9.3, 9.7, 9.9, 9.5, 7.8, 9.4]\n",
        "*valid_score, _, _= scores\n",
        "print(valid_score)"
      ],
      "metadata": {
        "colab": {
          "base_uri": "https://localhost:8080/"
        },
        "id": "p5agK17D3uL6",
        "outputId": "2bdb02fc-431f-4124-fe9e-1ad7761a0019"
      },
      "execution_count": 1,
      "outputs": [
        {
          "output_type": "stream",
          "name": "stdout",
          "text": [
            "[8.8, 8.9, 8.7, 9.2, 9.3, 9.7, 9.9, 9.5]\n"
          ]
        }
      ]
    },
    {
      "cell_type": "markdown",
      "source": [
        "**082**\n",
        "\n",
        "다음과 같이 10개의 값이 저장된 scores 리스트가 있을 때, start expression을 사용하여 우측 8개의 값을 valid_score 변수에 바인딩하여라.\n",
        "\n",
        "scores = [8.8, 8.9, 8.7, 9.2, 9.3, 9.7, 9.9, 9.5, 7.8, 9.4]"
      ],
      "metadata": {
        "id": "9fXKn1pShk59"
      }
    },
    {
      "cell_type": "code",
      "source": [
        "scores = [8.8, 8.9, 8.7, 9.2, 9.3, 9.7, 9.9, 9.5, 7.8, 9.4]\n",
        "\n",
        "a,b,*c = scores\n",
        "\n",
        "print(a)\n",
        "print(b)\n",
        "print(*c)"
      ],
      "metadata": {
        "colab": {
          "base_uri": "https://localhost:8080/"
        },
        "id": "5wIitAHyhsQL",
        "outputId": "e4b19c6f-d9da-41e5-d955-949a90f3154c"
      },
      "execution_count": 8,
      "outputs": [
        {
          "output_type": "stream",
          "name": "stdout",
          "text": [
            "8.8\n",
            "8.9\n",
            "8.7 9.2 9.3 9.7 9.9 9.5 7.8 9.4\n"
          ]
        }
      ]
    },
    {
      "cell_type": "markdown",
      "source": [
        "**083**\n",
        "\n",
        "다음과 같이 10개의 값이 저장된 scores 리스트가 있을 때, start expression을 사용하여 가운데 있는 8개의 값을 valid_score 변수에 바인딩하여라.\n",
        "\n",
        "scores = [8.8, 8.9, 8.7, 9.2, 9.3, 9.7, 9.9, 9.5, 7.8, 9.4]"
      ],
      "metadata": {
        "id": "Jsnt-G1Kh3oV"
      }
    },
    {
      "cell_type": "code",
      "source": [
        "a,*b,c = scores\n",
        "\n",
        "print(a)\n",
        "print(*b)\n",
        "print(c)"
      ],
      "metadata": {
        "colab": {
          "base_uri": "https://localhost:8080/"
        },
        "id": "HeIN1wnlh65i",
        "outputId": "fe396a82-fa0f-4b7e-80ca-53b5b51da492"
      },
      "execution_count": 9,
      "outputs": [
        {
          "output_type": "stream",
          "name": "stdout",
          "text": [
            "8.8\n",
            "8.9 8.7 9.2 9.3 9.7 9.9 9.5 7.8\n",
            "9.4\n"
          ]
        }
      ]
    },
    {
      "cell_type": "markdown",
      "source": [
        "**084 비어있는 딕셔너리**\n",
        "\n",
        "temp 이름의 비어있는 딕셔너리를 만들라"
      ],
      "metadata": {
        "id": "yMKoFobDiKdR"
      }
    },
    {
      "cell_type": "code",
      "source": [
        "temp = {}"
      ],
      "metadata": {
        "id": "NdKXPZ-4iFdo"
      },
      "execution_count": 10,
      "outputs": []
    },
    {
      "cell_type": "markdown",
      "source": [
        "**085**\n",
        "\n",
        "다음 아이스크림 이름과 희망 가격을 딕셔너리로 구성하라.\n",
        "\n",
        "[이름] [가격]\n",
        "\n",
        "메로나 1000\n",
        "\n",
        "폴라포 1200\n",
        "\n",
        "빵빠레 1800"
      ],
      "metadata": {
        "id": "gwqKEniniZW4"
      }
    },
    {
      "cell_type": "code",
      "source": [
        "icecream={'메로나':1000, '폴라포':1200, '빵빠레':1800}\n",
        "\n",
        "print(icecream)"
      ],
      "metadata": {
        "id": "qJkG4tt7ic0T",
        "colab": {
          "base_uri": "https://localhost:8080/"
        },
        "outputId": "87380838-2a8d-4213-86e8-263aa3f6e480"
      },
      "execution_count": 11,
      "outputs": [
        {
          "output_type": "stream",
          "name": "stdout",
          "text": [
            "{'메로나': 1000, '폴라포': 1200, '빵빠레': 1800}\n"
          ]
        }
      ]
    },
    {
      "cell_type": "markdown",
      "source": [
        "**086**\n",
        "\n",
        "085 번의 딕셔너리에 아래 아이스크림 가격정보를 추가하라.\n",
        "\n",
        "[이름] [가격]\n",
        "\n",
        "죠스바 1200\n",
        "\n",
        "월드콘 1500"
      ],
      "metadata": {
        "id": "StoWvP5Wipm4"
      }
    },
    {
      "cell_type": "code",
      "source": [
        "icecream['죠스바'] = 1200\n",
        "icecream['월드콘'] = 1500\n",
        "\n",
        "print(icecream)"
      ],
      "metadata": {
        "colab": {
          "base_uri": "https://localhost:8080/"
        },
        "id": "HHrQdKl4iqkn",
        "outputId": "52ac2721-f147-4ef2-892b-304f22cc6352"
      },
      "execution_count": 13,
      "outputs": [
        {
          "output_type": "stream",
          "name": "stdout",
          "text": [
            "{'메로나': 1000, '폴라포': 1200, '빵빠레': 1800, '죠스바': 1200, '월드콘': 1500}\n"
          ]
        }
      ]
    },
    {
      "cell_type": "markdown",
      "source": [
        "**087**\n",
        "\n",
        "다음 딕셔너리를 사용하여 메로나 가격을 출력하라."
      ],
      "metadata": {
        "id": "50TPNZW9i7kU"
      }
    },
    {
      "cell_type": "code",
      "source": [
        "ice = {'메로나': 1000,\n",
        "       '폴로포': 1200,\n",
        "       '빵빠레': 1800,\n",
        "       '죠스바': 1200,\n",
        "       '월드콘': 1500}\n",
        "\n",
        "#실행 예:\n",
        "#메로나 가격: 1000"
      ],
      "metadata": {
        "id": "DBn_rRRCi85t"
      },
      "execution_count": null,
      "outputs": []
    },
    {
      "cell_type": "code",
      "source": [
        "print(\"메로나 가격: \",icecream['메로나'])"
      ],
      "metadata": {
        "colab": {
          "base_uri": "https://localhost:8080/"
        },
        "id": "Fz4cS68p5x0D",
        "outputId": "0f0d3ba9-03b9-45cc-c5ed-f920b8dd5a49"
      },
      "execution_count": 15,
      "outputs": [
        {
          "output_type": "stream",
          "name": "stdout",
          "text": [
            "메로나 가격:  1000\n"
          ]
        }
      ]
    },
    {
      "cell_type": "markdown",
      "source": [
        "**088**\n",
        "\n",
        "다음 딕셔너리에서 메로나의 가격을 1300으로 수정하라."
      ],
      "metadata": {
        "id": "Bs-pjJhRjJ7G"
      }
    },
    {
      "cell_type": "code",
      "source": [
        "icecream['메로나'] = 1300\n",
        "\n",
        "print(icecream)"
      ],
      "metadata": {
        "colab": {
          "base_uri": "https://localhost:8080/"
        },
        "id": "HLwvojtcjNN5",
        "outputId": "1bcf6296-eb2b-4175-b2d4-5e89589b1b9a"
      },
      "execution_count": 18,
      "outputs": [
        {
          "output_type": "stream",
          "name": "stdout",
          "text": [
            "{'메로나': 1300, '폴라포': 1200, '빵빠레': 1800, '죠스바': 1200, '월드콘': 1500}\n"
          ]
        }
      ]
    },
    {
      "cell_type": "markdown",
      "source": [
        "**089**\n",
        "\n",
        "다음 딕셔너리에서 메로나를 삭제하라."
      ],
      "metadata": {
        "id": "_Brnj_MCjTqU"
      }
    },
    {
      "cell_type": "code",
      "source": [
        "del icecream['메로나']\n",
        "print(icecream)"
      ],
      "metadata": {
        "colab": {
          "base_uri": "https://localhost:8080/"
        },
        "id": "2zJlvdh_jW7Y",
        "outputId": "6842de52-b059-4dde-c02a-fdd24ef9c084"
      },
      "execution_count": 19,
      "outputs": [
        {
          "output_type": "stream",
          "name": "stdout",
          "text": [
            "{'폴라포': 1200, '빵빠레': 1800, '죠스바': 1200, '월드콘': 1500}\n"
          ]
        }
      ]
    },
    {
      "cell_type": "markdown",
      "source": [
        "**090**\n",
        "\n",
        "다음 코드에서 에러가 발생한 원인을 설명하라."
      ],
      "metadata": {
        "id": "1QoL4-JdjkVd"
      }
    },
    {
      "cell_type": "code",
      "source": [
        "# >> icecream = {'폴라포': 1200, '빵빠레': 1800, '월드콘': 1500, '메로나': 1000}\n",
        "# >> icecream['누가바']\n",
        "# Traceback (most recent call last):\n",
        "#   File \"<pyshell#69>\", line 1, in <module>\n",
        "#     icecream['누가바']\n",
        "# KeyError: '누가바'"
      ],
      "metadata": {
        "id": "LCUyH8sWjlTG"
      },
      "execution_count": null,
      "outputs": []
    },
    {
      "cell_type": "code",
      "source": [
        "# 딕셔너리에 없는 키를 사용해서 인덱싱하면 에러가 발생\n",
        "\n",
        "icecream = {'폴라포': 1200, '빵빠레': 1800, '월드콘': 1500, '메로나': 1000}\n",
        "icecream['누가바'] = 500\n",
        "\n",
        "print(icecream)"
      ],
      "metadata": {
        "colab": {
          "base_uri": "https://localhost:8080/"
        },
        "id": "xFzrLQxp6aRy",
        "outputId": "50213811-79be-41c9-dd69-d4a6abc80130"
      },
      "execution_count": 20,
      "outputs": [
        {
          "output_type": "stream",
          "name": "stdout",
          "text": [
            "{'폴라포': 1200, '빵빠레': 1800, '월드콘': 1500, '메로나': 1000, '누가바': 500}\n"
          ]
        }
      ]
    }
  ]
}