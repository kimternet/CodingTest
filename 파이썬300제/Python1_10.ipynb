{
  "nbformat": 4,
  "nbformat_minor": 0,
  "metadata": {
    "colab": {
      "provenance": []
    },
    "kernelspec": {
      "name": "python3",
      "display_name": "Python 3"
    },
    "language_info": {
      "name": "python"
    }
  },
  "cells": [
    {
      "cell_type": "markdown",
      "source": [
        "**001 print 기초**\n",
        "화면에 Hello World 문자열을 출력하세요."
      ],
      "metadata": {
        "id": "tGaRqz9whZRv"
      }
    },
    {
      "cell_type": "code",
      "execution_count": 1,
      "metadata": {
        "colab": {
          "base_uri": "https://localhost:8080/"
        },
        "id": "ltcrVQ62g2dX",
        "outputId": "48e69a6c-cf31-47d3-800b-595ac4b451bf"
      },
      "outputs": [
        {
          "output_type": "stream",
          "name": "stdout",
          "text": [
            "Hello World\n"
          ]
        }
      ],
      "source": [
        "print(\"Hello World\")"
      ]
    },
    {
      "cell_type": "markdown",
      "source": [
        "**002 print 기초**\n",
        "화면에 Mary's cosmetics을 출력하세요. (중간에 '가 있음에 주의하세요)"
      ],
      "metadata": {
        "id": "IWffC9r2hdv7"
      }
    },
    {
      "cell_type": "code",
      "source": [
        "print(\"Mary's cosmetics\")"
      ],
      "metadata": {
        "colab": {
          "base_uri": "https://localhost:8080/"
        },
        "id": "bpKK9WC4hhyQ",
        "outputId": "0ad512e9-ef5c-4922-dfb7-944f4f65b366"
      },
      "execution_count": 2,
      "outputs": [
        {
          "output_type": "stream",
          "name": "stdout",
          "text": [
            "Mary's cosmetics\n"
          ]
        }
      ]
    },
    {
      "cell_type": "markdown",
      "source": [
        "**003 print 기초**\n",
        "화면에 신씨가 소리질렀다. \"도둑이야\". 문장을 출력하세요. (중간에 \"가 있음에 주의하세요.)"
      ],
      "metadata": {
        "id": "3mVuIxXAhngy"
      }
    },
    {
      "cell_type": "code",
      "source": [
        "print('신씨가 소리질렀다.\"도둑이야\".')"
      ],
      "metadata": {
        "colab": {
          "base_uri": "https://localhost:8080/"
        },
        "id": "kHBqPEjvhmqw",
        "outputId": "69e1bcc0-8ae2-4219-b053-1e94cebd5592"
      },
      "execution_count": 3,
      "outputs": [
        {
          "output_type": "stream",
          "name": "stdout",
          "text": [
            "신씨가 소리질렀다.\"도둑이야\".\n"
          ]
        }
      ]
    },
    {
      "cell_type": "markdown",
      "source": [
        "**004 print 기초**\n",
        "화면에 C:\\Windows를 출력하세요."
      ],
      "metadata": {
        "id": "fKto9LmUh2Q9"
      }
    },
    {
      "cell_type": "code",
      "source": [
        "print(\"C:\\Windows\")"
      ],
      "metadata": {
        "colab": {
          "base_uri": "https://localhost:8080/"
        },
        "id": "nPbhmB0_hnG7",
        "outputId": "269c5c27-148a-4bea-d845-db6d3fd1f618"
      },
      "execution_count": 7,
      "outputs": [
        {
          "output_type": "stream",
          "name": "stdout",
          "text": [
            "C:\\Windows\n"
          ]
        }
      ]
    },
    {
      "cell_type": "markdown",
      "source": [
        "**005 print 탭과 줄바꿈**\n",
        "다음 코드를 실행해보고 \\t와 \\n의 역할을 설명해보세요."
      ],
      "metadata": {
        "id": "_JlZVvJAiD0-"
      }
    },
    {
      "cell_type": "code",
      "source": [
        "print(\"안녕하세요.\\n 만나서\\t\\t반갑습니다.\")\n",
        "# \\n은 줄바꿈, \\t는 탭"
      ],
      "metadata": {
        "colab": {
          "base_uri": "https://localhost:8080/"
        },
        "id": "y61-fO3Nh84K",
        "outputId": "810d5451-510e-45b0-c6c7-3dbe7bab7a2f"
      },
      "execution_count": 9,
      "outputs": [
        {
          "output_type": "stream",
          "name": "stdout",
          "text": [
            "안녕하세요.\n",
            " 만나서\t\t반갑습니다.\n"
          ]
        }
      ]
    },
    {
      "cell_type": "markdown",
      "source": [
        "**006 print 여러 데이터 출력**\n",
        "print 함수에 두 개의 단어를 입력한 예제입니다. 아래 코드의 출력 결과를 예상해봅시다."
      ],
      "metadata": {
        "id": "GwX-qRRiiPgY"
      }
    },
    {
      "cell_type": "code",
      "source": [
        "print(\"오늘은\",\"일요일\")\n",
        "#여러 값 출력은 쉼표로 구분 따라서 \"오늘은 일요일\""
      ],
      "metadata": {
        "colab": {
          "base_uri": "https://localhost:8080/"
        },
        "id": "2G_eHA7ziLi3",
        "outputId": "f47c73ce-1841-4e49-a07e-564fcbbf040d"
      },
      "execution_count": 10,
      "outputs": [
        {
          "output_type": "stream",
          "name": "stdout",
          "text": [
            "오늘은 일요일\n"
          ]
        }
      ]
    },
    {
      "cell_type": "markdown",
      "source": [
        "**007 print 기초**\n",
        "print() 함수를 사용하여 다음과 같이 출력하세요.\n",
        "naver;kakao;sk;samsung (sep인자활용)"
      ],
      "metadata": {
        "id": "zDiu8al5igaz"
      }
    },
    {
      "cell_type": "code",
      "source": [
        "print(\"naver\", \"kakao\", \"sk\", \"samsung\", sep=\";\")"
      ],
      "metadata": {
        "colab": {
          "base_uri": "https://localhost:8080/"
        },
        "id": "TbpVxLuYihfZ",
        "outputId": "fe7e0111-ecb8-43b5-becc-4d8629a3eafc"
      },
      "execution_count": 12,
      "outputs": [
        {
          "output_type": "stream",
          "name": "stdout",
          "text": [
            "naver;kakao;sk;samsung\n"
          ]
        }
      ]
    },
    {
      "cell_type": "markdown",
      "source": [
        "**008 print 기초**\n",
        "print() 함수를 사용하여 다음과 같이 출력하세요.\n",
        "\n",
        "naver/kakao/sk/samsung"
      ],
      "metadata": {
        "id": "0mwbvewYi2NK"
      }
    },
    {
      "cell_type": "code",
      "source": [
        "print(\"naver\",\"kakao\",\"sk\",\"samsung\", sep=\"/\")"
      ],
      "metadata": {
        "colab": {
          "base_uri": "https://localhost:8080/"
        },
        "id": "9eo0601si4Dc",
        "outputId": "3b67c047-1d84-479a-c7b5-0b435181860e"
      },
      "execution_count": 13,
      "outputs": [
        {
          "output_type": "stream",
          "name": "stdout",
          "text": [
            "naver/kakao/sk/samsung\n"
          ]
        }
      ]
    },
    {
      "cell_type": "markdown",
      "source": [
        "**009 print 줄바꿈**\n",
        "다음 코드를 수정하여 줄바꿈이 없이 출력하세요. (힌트: end='') print 함수는 두 번 사용합니다. 세미콜론 (;)은 한줄에 여러 개의 명령을 작성하기 위해 사용합니다.\n",
        "\n",
        "print(\"first\");print(\"second\")"
      ],
      "metadata": {
        "id": "h1QmqL-TjFjO"
      }
    },
    {
      "cell_type": "code",
      "source": [
        "print(\"first\", end=\"\");print(\"second\")"
      ],
      "metadata": {
        "colab": {
          "base_uri": "https://localhost:8080/"
        },
        "id": "ggNInW_KjCKB",
        "outputId": "d9f8c1c8-ea0a-494c-b01d-54ec54465a06"
      },
      "execution_count": 14,
      "outputs": [
        {
          "output_type": "stream",
          "name": "stdout",
          "text": [
            "firstsecond\n"
          ]
        }
      ]
    },
    {
      "cell_type": "markdown",
      "source": [
        "**010 연산 결과 출력**\n",
        "5/3의 결과를 화면에 출력하세요."
      ],
      "metadata": {
        "id": "Z5LH7LOvjbH1"
      }
    },
    {
      "cell_type": "code",
      "source": [
        "print(5/3)"
      ],
      "metadata": {
        "colab": {
          "base_uri": "https://localhost:8080/"
        },
        "id": "h9jxrZlHjcdz",
        "outputId": "afdaf426-ffd0-4f0d-d12c-f3bb3a160b04"
      },
      "execution_count": 15,
      "outputs": [
        {
          "output_type": "stream",
          "name": "stdout",
          "text": [
            "1.6666666666666667\n"
          ]
        }
      ]
    }
  ]
}