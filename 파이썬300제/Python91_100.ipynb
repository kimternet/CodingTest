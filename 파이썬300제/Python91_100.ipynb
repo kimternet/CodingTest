{
  "nbformat": 4,
  "nbformat_minor": 0,
  "metadata": {
    "colab": {
      "provenance": []
    },
    "kernelspec": {
      "name": "python3",
      "display_name": "Python 3"
    },
    "language_info": {
      "name": "python"
    }
  },
  "cells": [
    {
      "cell_type": "markdown",
      "source": [
        "**091 딕셔너리 생성**\n",
        "\n",
        "아래의 표에서, 아이스크림 이름을 키값으로, (가격, 재고)\n",
        "\n",
        "리스트를 딕셔너리의 값으로 저장하라. 딕셔너리의 이름은 inventory로 한다.\n",
        "\n",
        "메로나 300원 20개\n",
        "\n",
        "비비빅 400원 3개\n",
        "\n",
        "죠스바 250개 100개"
      ],
      "metadata": {
        "id": "8VNCA9pmc-VA"
      }
    },
    {
      "cell_type": "code",
      "source": [
        "inventory = {\"메로나\" : [300, 20],\n",
        "             \"비비빅\" : [400, 3],\n",
        "             \"죠스바\": [250, 100]}\n",
        "\n",
        "print(inventory)"
      ],
      "metadata": {
        "colab": {
          "base_uri": "https://localhost:8080/"
        },
        "id": "3bw8EBmpc8Fx",
        "outputId": "df3f49eb-aea2-45a7-8914-3184d83e4131"
      },
      "execution_count": 2,
      "outputs": [
        {
          "output_type": "stream",
          "name": "stdout",
          "text": [
            "{'메로나': [300, 20], '비비빅': [400, 3], '죠스바': [250, 100]}\n"
          ]
        }
      ]
    },
    {
      "cell_type": "markdown",
      "source": [
        "**092 딕셔너리 인덱싱**\n",
        "\n",
        "inventory 딕셔너리에서 메로나의 가격을 화면에 출력하라."
      ],
      "metadata": {
        "id": "CWU2GptudaNI"
      }
    },
    {
      "cell_type": "code",
      "source": [
        "print(inventory[\"메로나\"][0],\"원\")"
      ],
      "metadata": {
        "colab": {
          "base_uri": "https://localhost:8080/"
        },
        "id": "B6UEldSgdd-4",
        "outputId": "0ad03c03-3ffe-4291-a03b-6376179e109a"
      },
      "execution_count": 5,
      "outputs": [
        {
          "output_type": "stream",
          "name": "stdout",
          "text": [
            "300 원\n"
          ]
        }
      ]
    },
    {
      "cell_type": "markdown",
      "source": [
        "**093 딕셔너리 인덱싱**\n",
        "\n",
        "inventory 딕셔너리에서 메로나의 재고를 화면에 출력하라."
      ],
      "metadata": {
        "id": "_D8gyQcidpc4"
      }
    },
    {
      "cell_type": "code",
      "source": [
        "print(inventory[\"메로나\"][1],\"개\")"
      ],
      "metadata": {
        "colab": {
          "base_uri": "https://localhost:8080/"
        },
        "id": "5Oqr0NdjdquI",
        "outputId": "5dd543e9-49a2-4056-ccfa-9489122a81ae"
      },
      "execution_count": 6,
      "outputs": [
        {
          "output_type": "stream",
          "name": "stdout",
          "text": [
            "20 개\n"
          ]
        }
      ]
    },
    {
      "cell_type": "markdown",
      "source": [
        "**094 딕셔너리 추가**\n",
        "\n",
        "inventory 딕셔너리에 아래 데이터를 추가하라."
      ],
      "metadata": {
        "id": "ugNzI1zLdvC4"
      }
    },
    {
      "cell_type": "code",
      "source": [
        "inventory[\"월드콘\"] = [500, 7]\n",
        "\n",
        "print(inventory)"
      ],
      "metadata": {
        "colab": {
          "base_uri": "https://localhost:8080/"
        },
        "id": "RzCzV0TFdxIo",
        "outputId": "8fa7be90-da99-4310-b451-3a4ec3599303"
      },
      "execution_count": 7,
      "outputs": [
        {
          "output_type": "stream",
          "name": "stdout",
          "text": [
            "{'메로나': [300, 20], '비비빅': [400, 3], '죠스바': [250, 100], '월드콘': [500, 7]}\n"
          ]
        }
      ]
    },
    {
      "cell_type": "markdown",
      "source": [
        "**095 딕셔너리 keys() 메서드**\n",
        "\n",
        "다음의 딕셔너리로부터 key 값으로만 구성된 리스트를 생성하라."
      ],
      "metadata": {
        "id": "xbnhuX1Xd4ow"
      }
    },
    {
      "cell_type": "code",
      "source": [
        "icecream = {'탱크보이': 1200, '폴라포': 1200, '빵빠레': 1800, '월드콘': 1500, '메로나': 1000}"
      ],
      "metadata": {
        "id": "nyVPkX_Dd5qQ"
      },
      "execution_count": 8,
      "outputs": []
    },
    {
      "cell_type": "code",
      "source": [
        "ice = list(icecream.keys())\n",
        "\n",
        "print(ice)"
      ],
      "metadata": {
        "colab": {
          "base_uri": "https://localhost:8080/"
        },
        "id": "MF5UBWOjd-mI",
        "outputId": "79033c00-d59e-4d1f-c04a-855145914b9d"
      },
      "execution_count": 10,
      "outputs": [
        {
          "output_type": "stream",
          "name": "stdout",
          "text": [
            "['탱크보이', '폴라포', '빵빠레', '월드콘', '메로나']\n"
          ]
        }
      ]
    },
    {
      "cell_type": "markdown",
      "source": [
        "**096 딕셔너리 values() 메서드**\n",
        "\n",
        "다음의 딕셔너리에서 values 값으로만 구성된 리스트를 생성하라."
      ],
      "metadata": {
        "id": "4wMGXd-OfxL5"
      }
    },
    {
      "cell_type": "code",
      "source": [
        "icecream = {'탱크보이': 1200, '폴라포': 1200, '빵빠레': 1800, '월드콘': 1500, '메로나': 1000}"
      ],
      "metadata": {
        "id": "Eg2FvHuCfzDY"
      },
      "execution_count": 12,
      "outputs": []
    },
    {
      "cell_type": "code",
      "source": [
        "price = list(icecream.values())\n",
        "\n",
        "print(price)"
      ],
      "metadata": {
        "colab": {
          "base_uri": "https://localhost:8080/"
        },
        "id": "jw3AbQTUfzvZ",
        "outputId": "d947a1ac-197d-411e-d62e-2ab0ae3010ee"
      },
      "execution_count": 11,
      "outputs": [
        {
          "output_type": "stream",
          "name": "stdout",
          "text": [
            "[1200, 1200, 1800, 1500, 1000]\n"
          ]
        }
      ]
    },
    {
      "cell_type": "markdown",
      "source": [
        "**097 딕셔너리 values() 메서드**\n",
        "\n",
        "icecream 딕셔너리에서 아이스크림 판매 금액의 총합을 출력하라."
      ],
      "metadata": {
        "id": "DCi_Bp0Of6uh"
      }
    },
    {
      "cell_type": "code",
      "source": [
        "print(sum(icecream.values()))"
      ],
      "metadata": {
        "colab": {
          "base_uri": "https://localhost:8080/"
        },
        "id": "3RMgddSOf7qQ",
        "outputId": "38926e1d-76b7-49aa-bea5-887a9b4e7b64"
      },
      "execution_count": 13,
      "outputs": [
        {
          "output_type": "stream",
          "name": "stdout",
          "text": [
            "6700\n"
          ]
        }
      ]
    },
    {
      "cell_type": "markdown",
      "source": [
        "**098 딕셔너리 update 메서드**\n",
        "\n",
        "아래의 new_product 딕셔너리를 다음 icecream 딕셔너리에 추가하라."
      ],
      "metadata": {
        "id": "4qUF-DPhgAWh"
      }
    },
    {
      "cell_type": "code",
      "source": [
        "icecream = {'탱크보이': 1200, '폴라포': 1200, '빵빠레': 1800, '월드콘': 1500, '메로나': 1000}\n",
        "new_product = {'팥빙수':2700, '아맛나':1000}\n",
        "\n",
        "\n",
        "icecream.update(new_product)\n",
        "print(icecream)"
      ],
      "metadata": {
        "colab": {
          "base_uri": "https://localhost:8080/"
        },
        "id": "Uo9EFBTzgBh5",
        "outputId": "a0fe971f-105a-48ff-fe88-52d47b793164"
      },
      "execution_count": 15,
      "outputs": [
        {
          "output_type": "stream",
          "name": "stdout",
          "text": [
            "{'탱크보이': 1200, '폴라포': 1200, '빵빠레': 1800, '월드콘': 1500, '메로나': 1000, '팥빙수': 2700, '아맛나': 1000}\n"
          ]
        }
      ]
    },
    {
      "cell_type": "markdown",
      "source": [
        "**099 zip과 dict**\n",
        "\n",
        "아래 두 개의 튜플을 하나의 딕셔너리로 변환하라. keys를 키로, vals를 값으로 result 이름의 딕셔너리로 저장한다."
      ],
      "metadata": {
        "id": "dN5ohQ4FgO9B"
      }
    },
    {
      "cell_type": "code",
      "source": [
        "keys = (\"apple\", \"pear\", \"peach\")\n",
        "vals = (300, 250, 400)\n",
        "\n",
        "result = dict(zip(keys, vals))\n",
        "print(result)"
      ],
      "metadata": {
        "colab": {
          "base_uri": "https://localhost:8080/"
        },
        "id": "WE50g62ggQaQ",
        "outputId": "e84c519f-36f1-489e-a8d1-60865fec1ca3"
      },
      "execution_count": 16,
      "outputs": [
        {
          "output_type": "stream",
          "name": "stdout",
          "text": [
            "{'apple': 300, 'pear': 250, 'peach': 400}\n"
          ]
        }
      ]
    },
    {
      "cell_type": "markdown",
      "source": [
        "**100 zip과 dict**\n",
        "\n",
        "date와 close_price 두 개의 리스트를 close_table 이름의 딕셔너리로 생성하라."
      ],
      "metadata": {
        "id": "Z6pleJN9hamI"
      }
    },
    {
      "cell_type": "code",
      "source": [
        "date = ['09/05', '09/06', '09/07', '09/08', '09/09']\n",
        "close_price = [10500, 10300, 10100, 10800, 11000]\n",
        "\n",
        "close_table = dict(zip(date, close_price))\n",
        "print(close_table)"
      ],
      "metadata": {
        "colab": {
          "base_uri": "https://localhost:8080/"
        },
        "id": "YKipUS0thbeA",
        "outputId": "769b3c07-7dc3-45d6-9a61-03ad73c0fb1d"
      },
      "execution_count": 18,
      "outputs": [
        {
          "output_type": "stream",
          "name": "stdout",
          "text": [
            "{'09/05': 10500, '09/06': 10300, '09/07': 10100, '09/08': 10800, '09/09': 11000}\n"
          ]
        }
      ]
    }
  ]
}