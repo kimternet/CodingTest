{
 "cells": [
  {
   "cell_type": "markdown",
   "metadata": {},
   "source": [
    "### 문제 설명\n",
    "나이를 세는 방법은 여러 가지가 있습니다. \n",
    "그중 한국식 나이는 태어난 순간 1살이 되며 해가 바뀔 때마다 1살씩 더 먹게 됩니다. \n",
    "연 나이는 태어난 순간 0살이며 해가 바뀔 때마다 1살씩 더 먹게 됩니다. \n",
    "\n",
    "각각 나이의 계산법은 다음과 같습니다.\n",
    "\n",
    "한국식 나이 : 현재 연도 - 출생 연도 + 1\n",
    "연 나이 : 현재 연도 - 출생 연도\n",
    "\n",
    "출생 연도를 나타내는 정수 year와 구하려는 나이의 종류를 나타내는 문자열 age_type이 주어질 때 2030년에 몇 살인지 출력하도록 빈칸을 채워 코드를 완성해 주세요. age_type이 \"Korea\"라면 한국식 나이를, \"Year\"라면 연 나이를 출력합니다."
   ]
  },
  {
   "cell_type": "code",
   "execution_count": null,
   "metadata": {},
   "outputs": [],
   "source": [
    "year = int(input())\n",
    "age_type = input()\n",
    "\n",
    "if age_type == \"Korea\" :\n",
    "    answer = (2030-year)+1\n",
    "elif age_type == \"Year\":\n",
    "    answer = 2030-year\n",
    "\n",
    "print(answer)"
   ]
  }
 ],
 "metadata": {
  "kernelspec": {
   "display_name": "base",
   "language": "python",
   "name": "python3"
  },
  "language_info": {
   "codemirror_mode": {
    "name": "ipython",
    "version": 3
   },
   "file_extension": ".py",
   "mimetype": "text/x-python",
   "name": "python",
   "nbconvert_exporter": "python",
   "pygments_lexer": "ipython3",
   "version": "3.12.4"
  }
 },
 "nbformat": 4,
 "nbformat_minor": 2
}
